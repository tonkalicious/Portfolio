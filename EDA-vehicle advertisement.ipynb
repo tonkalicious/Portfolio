{
 "cells": [
  {
   "cell_type": "markdown",
   "metadata": {},
   "source": [
    "### Step 1. Open the data file and study the general information. "
   ]
  },
  {
   "cell_type": "code",
   "execution_count": 620,
   "metadata": {
    "scrolled": true
   },
   "outputs": [
    {
     "name": "stdout",
     "output_type": "stream",
     "text": [
      "   price  model_year           model  condition  cylinders fuel  odometer  \\\n",
      "0   9400      2011.0          bmw x5       good        6.0  gas  145000.0   \n",
      "1  25500         NaN      ford f-150       good        6.0  gas   88705.0   \n",
      "2   5500      2013.0  hyundai sonata   like new        4.0  gas  110000.0   \n",
      "3   1500      2003.0      ford f-150       fair        8.0  gas       NaN   \n",
      "4  14900      2017.0    chrysler 200  excellent        4.0  gas   80903.0   \n",
      "\n",
      "  transmission    type paint_color  is_4wd date_posted  days_listed  \n",
      "0    automatic     SUV         NaN     1.0  2018-06-23           19  \n",
      "1    automatic  pickup       white     1.0  2018-10-19           50  \n",
      "2    automatic   sedan         red     NaN  2019-02-07           79  \n",
      "3    automatic  pickup         NaN     NaN  2019-03-22            9  \n",
      "4    automatic   sedan       black     NaN  2019-04-02           28  \n",
      "<class 'pandas.core.frame.DataFrame'>\n",
      "RangeIndex: 51525 entries, 0 to 51524\n",
      "Data columns (total 13 columns):\n",
      "price           51525 non-null int64\n",
      "model_year      47906 non-null float64\n",
      "model           51525 non-null object\n",
      "condition       51525 non-null object\n",
      "cylinders       46265 non-null float64\n",
      "fuel            51525 non-null object\n",
      "odometer        43633 non-null float64\n",
      "transmission    51525 non-null object\n",
      "type            51525 non-null object\n",
      "paint_color     42258 non-null object\n",
      "is_4wd          25572 non-null float64\n",
      "date_posted     51525 non-null object\n",
      "days_listed     51525 non-null int64\n",
      "dtypes: float64(4), int64(2), object(7)\n",
      "memory usage: 5.1+ MB\n"
     ]
    }
   ],
   "source": [
    "import pandas as pd\n",
    "data = pd.read_csv('/datasets/vehicles_us.csv')\n",
    "print(data.head())\n",
    "data.info()"
   ]
  },
  {
   "cell_type": "markdown",
   "metadata": {},
   "source": [
    "From info() method I get that there are missing values in 'model_year', 'cylinders','odometer','paint_color','is_4wd'. I can see there are a lot of missing values for 'is_4wd', even 50%, so we should for sure have a look into that. 'paint_color' is the only value in object type.\n",
    "\n",
    "dtype for 'model_year' and 'cylinders' are float64 type but they should be int64.\n",
    "date_posted is in object type and it should be convert to datetime64, because if we work later with it, Python will understand values in this type."
   ]
  },
  {
   "cell_type": "code",
   "execution_count": 621,
   "metadata": {},
   "outputs": [
    {
     "name": "stdout",
     "output_type": "stream",
     "text": [
      "              missing_values  % of total\n",
      "price                      0        0.00\n",
      "model_year              3619        0.07\n",
      "model                      0        0.00\n",
      "condition                  0        0.00\n",
      "cylinders               5260        0.10\n",
      "fuel                       0        0.00\n",
      "odometer                7892        0.15\n",
      "transmission               0        0.00\n",
      "type                       0        0.00\n",
      "paint_color             9267        0.18\n",
      "is_4wd                 25953        0.50\n",
      "date_posted                0        0.00\n",
      "days_listed                0        0.00\n"
     ]
    }
   ],
   "source": [
    "report = data.isna().sum().to_frame()\n",
    "report = report.rename(columns = {0: 'missing_values'})\n",
    "report['% of total'] = (report['missing_values'] / data.shape[0]).round(2)\n",
    "report.sort_values(by = 'missing_values', ascending = False)\n",
    "print(report)"
   ]
  },
  {
   "cell_type": "markdown",
   "metadata": {},
   "source": [
    "We can read the percentage of missing values in each column, which helps us determine what kind of method is best to use when filling up the missing values. \n",
    "\n",
    "'paint_color' is the only missing value in object tipe with 18% of missing value which is quite a lot. It is a categorical variable so we cannot find coorelation with other missing values which are quantitative type. I will convert missing values in 'paint_color' to \"Unknown\" becase any other filling approach could distort initial data (cosidering 18% missing values.)"
   ]
  },
  {
   "cell_type": "code",
   "execution_count": 622,
   "metadata": {
    "scrolled": true
   },
   "outputs": [
    {
     "data": {
      "text/html": [
       "<div>\n",
       "<style scoped>\n",
       "    .dataframe tbody tr th:only-of-type {\n",
       "        vertical-align: middle;\n",
       "    }\n",
       "\n",
       "    .dataframe tbody tr th {\n",
       "        vertical-align: top;\n",
       "    }\n",
       "\n",
       "    .dataframe thead th {\n",
       "        text-align: right;\n",
       "    }\n",
       "</style>\n",
       "<table border=\"1\" class=\"dataframe\">\n",
       "  <thead>\n",
       "    <tr style=\"text-align: right;\">\n",
       "      <th></th>\n",
       "      <th>price</th>\n",
       "      <th>model_year</th>\n",
       "      <th>cylinders</th>\n",
       "      <th>odometer</th>\n",
       "      <th>is_4wd</th>\n",
       "      <th>days_listed</th>\n",
       "    </tr>\n",
       "  </thead>\n",
       "  <tbody>\n",
       "    <tr>\n",
       "      <td>count</td>\n",
       "      <td>51525.000000</td>\n",
       "      <td>47906.000000</td>\n",
       "      <td>46265.000000</td>\n",
       "      <td>43633.000000</td>\n",
       "      <td>25572.0</td>\n",
       "      <td>51525.00000</td>\n",
       "    </tr>\n",
       "    <tr>\n",
       "      <td>mean</td>\n",
       "      <td>12132.464920</td>\n",
       "      <td>2009.750470</td>\n",
       "      <td>6.125235</td>\n",
       "      <td>115553.461738</td>\n",
       "      <td>1.0</td>\n",
       "      <td>39.55476</td>\n",
       "    </tr>\n",
       "    <tr>\n",
       "      <td>std</td>\n",
       "      <td>10040.803015</td>\n",
       "      <td>6.282065</td>\n",
       "      <td>1.660360</td>\n",
       "      <td>65094.611341</td>\n",
       "      <td>0.0</td>\n",
       "      <td>28.20427</td>\n",
       "    </tr>\n",
       "    <tr>\n",
       "      <td>min</td>\n",
       "      <td>1.000000</td>\n",
       "      <td>1908.000000</td>\n",
       "      <td>3.000000</td>\n",
       "      <td>0.000000</td>\n",
       "      <td>1.0</td>\n",
       "      <td>0.00000</td>\n",
       "    </tr>\n",
       "    <tr>\n",
       "      <td>25%</td>\n",
       "      <td>5000.000000</td>\n",
       "      <td>2006.000000</td>\n",
       "      <td>4.000000</td>\n",
       "      <td>70000.000000</td>\n",
       "      <td>1.0</td>\n",
       "      <td>19.00000</td>\n",
       "    </tr>\n",
       "    <tr>\n",
       "      <td>50%</td>\n",
       "      <td>9000.000000</td>\n",
       "      <td>2011.000000</td>\n",
       "      <td>6.000000</td>\n",
       "      <td>113000.000000</td>\n",
       "      <td>1.0</td>\n",
       "      <td>33.00000</td>\n",
       "    </tr>\n",
       "    <tr>\n",
       "      <td>75%</td>\n",
       "      <td>16839.000000</td>\n",
       "      <td>2014.000000</td>\n",
       "      <td>8.000000</td>\n",
       "      <td>155000.000000</td>\n",
       "      <td>1.0</td>\n",
       "      <td>53.00000</td>\n",
       "    </tr>\n",
       "    <tr>\n",
       "      <td>max</td>\n",
       "      <td>375000.000000</td>\n",
       "      <td>2019.000000</td>\n",
       "      <td>12.000000</td>\n",
       "      <td>990000.000000</td>\n",
       "      <td>1.0</td>\n",
       "      <td>271.00000</td>\n",
       "    </tr>\n",
       "  </tbody>\n",
       "</table>\n",
       "</div>"
      ],
      "text/plain": [
       "               price    model_year     cylinders       odometer   is_4wd  \\\n",
       "count   51525.000000  47906.000000  46265.000000   43633.000000  25572.0   \n",
       "mean    12132.464920   2009.750470      6.125235  115553.461738      1.0   \n",
       "std     10040.803015      6.282065      1.660360   65094.611341      0.0   \n",
       "min         1.000000   1908.000000      3.000000       0.000000      1.0   \n",
       "25%      5000.000000   2006.000000      4.000000   70000.000000      1.0   \n",
       "50%      9000.000000   2011.000000      6.000000  113000.000000      1.0   \n",
       "75%     16839.000000   2014.000000      8.000000  155000.000000      1.0   \n",
       "max    375000.000000   2019.000000     12.000000  990000.000000      1.0   \n",
       "\n",
       "       days_listed  \n",
       "count  51525.00000  \n",
       "mean      39.55476  \n",
       "std       28.20427  \n",
       "min        0.00000  \n",
       "25%       19.00000  \n",
       "50%       33.00000  \n",
       "75%       53.00000  \n",
       "max      271.00000  "
      ]
     },
     "execution_count": 622,
     "metadata": {},
     "output_type": "execute_result"
    }
   ],
   "source": [
    "data.describe()"
   ]
  },
  {
   "cell_type": "markdown",
   "metadata": {},
   "source": [
    "Minimum value in 'price' column is 1. It is not possible for the value of a vehicle to be 1, this is for sure an artifact.\n",
    "\n",
    "Minimum value for 'model_year' is 1908, we should look up these rows and see is this also a possible artifact.\n",
    "\n",
    "Also, we can read the minimun value for 'odometer' is 0 and we should check is there a logical explanation for the mileage of a vehicle to be 0 (new car, for example.) \n",
    "\n",
    "Standard deviation for 'is_4wd' is 0, this means all the values are the same, 1. dtype is float64 but considering 'is_4wd' tells us whether the vehicle has 4-wheel drive or not, dtype should be converted to Boolean type.\n",
    "\n",
    "Minimum value in days_listed is 0. This could mean the vehicles were sold in less than a day. This value could be an artifact. "
   ]
  },
  {
   "cell_type": "code",
   "execution_count": 623,
   "metadata": {},
   "outputs": [
    {
     "name": "stdout",
     "output_type": "stream",
     "text": [
      "0\n"
     ]
    }
   ],
   "source": [
    "print(data.duplicated().sum())"
   ]
  },
  {
   "cell_type": "markdown",
   "metadata": {},
   "source": [
    "duplicated() method gives us the number of duplicated rows in the data set. There aren't any."
   ]
  },
  {
   "cell_type": "code",
   "execution_count": 624,
   "metadata": {},
   "outputs": [
    {
     "name": "stdout",
     "output_type": "stream",
     "text": [
      "798\n"
     ]
    }
   ],
   "source": [
    "too_small_price = data.query('price == 1')\n",
    "print(len(too_small_price))"
   ]
  },
  {
   "cell_type": "markdown",
   "metadata": {},
   "source": [
    "There are actually 798 ads with a price equals to 1. I will consider these values as missing value for 'price'."
   ]
  },
  {
   "cell_type": "code",
   "execution_count": 625,
   "metadata": {
    "scrolled": true
   },
   "outputs": [
    {
     "data": {
      "image/png": "[encoded data removed]",
      "text/plain": [
       "<Figure size 432x288 with 2 Axes>"
      ]
     },
     "metadata": {
      "needs_background": "light"
     },
     "output_type": "display_data"
    }
   ],
   "source": [
    "import seaborn as sn\n",
    "import matplotlib.pyplot as plt\n",
    "\n",
    "plt.title('Correlation Matrix', fontsize=16)\n",
    "corrMatrix = data.corr()\n",
    "sn.heatmap(corrMatrix, annot=True)\n",
    "plt.show()"
   ]
  },
  {
   "cell_type": "markdown",
   "metadata": {},
   "source": [
    "I used the seaborn and matplotlib packages in order to get a visual representation of the correlation matrix.\n",
    "\n",
    "The goal of this assignment is to determine which factors influence the price of a vehicle so we are looking positive or negative appropriate correlations to find these factor. In the matrix we can read Pearson correlation coefficient which tells us how much one value changes when the other changes. It takes values from -1 to 1. The closer the coefficient is to -1 or 1 , the stronger the dependency. Close to 0, we have weak connection. Zero means there is no dependency or there is complex and non-linear relationship. \n",
    "\n",
    "'price' has the strongest correlation with 'model_year' (0.43), 'model_year' with 'odometer' (-0.47) and vice versa. 'cylinders' have the strongest correlation with 'model_year' (-0.47).\n",
    "Correlation matrix can also help in determing how to fill the missing values so I will consider this descriptive statistic when I will fill up the missing value.\n"
   ]
  },
  {
   "cell_type": "markdown",
   "metadata": {},
   "source": [
    "### Conclusion"
   ]
  },
  {
   "cell_type": "markdown",
   "metadata": {},
   "source": [
    "'model_year' and 'cylinders' should be converted into int64 type, 'date_posted' to datetime64, 'is_4wd' to bool type.\n",
    "\n",
    "All the missing values in 'paint_color' I will fill with 'Unknown'.\n",
    "\n",
    "There are no duplicated rows but I did find artifacts; 'price' == 1. I will consider this a missing value which needs to be replaced with another one.\n",
    "\n",
    "I need to check rows where 'model_year' == 1908, where 'odometer' == 0.\n",
    "\n",
    "I found correlations between some quantitative values and I will consider this when filling up the missing values."
   ]
  },
  {
   "cell_type": "markdown",
   "metadata": {},
   "source": [
    "### Step 2. Data preprocessing"
   ]
  },
  {
   "cell_type": "code",
   "execution_count": 626,
   "metadata": {},
   "outputs": [
    {
     "name": "stdout",
     "output_type": "stream",
     "text": [
      "<class 'pandas.core.frame.DataFrame'>\n",
      "RangeIndex: 51525 entries, 0 to 51524\n",
      "Data columns (total 13 columns):\n",
      "price           51525 non-null int64\n",
      "model_year      47906 non-null float64\n",
      "model           51525 non-null object\n",
      "condition       51525 non-null object\n",
      "cylinders       46265 non-null float64\n",
      "fuel            51525 non-null object\n",
      "odometer        43633 non-null float64\n",
      "transmission    51525 non-null object\n",
      "type            51525 non-null object\n",
      "paint_color     42258 non-null object\n",
      "is_4wd          51525 non-null bool\n",
      "date_posted     51525 non-null object\n",
      "days_listed     51525 non-null int64\n",
      "dtypes: bool(1), float64(3), int64(2), object(7)\n",
      "memory usage: 4.8+ MB\n"
     ]
    }
   ],
   "source": [
    "data['is_4wd'] = data['is_4wd'].astype(bool)\n",
    "data.info()"
   ]
  },
  {
   "cell_type": "markdown",
   "metadata": {},
   "source": [
    "I converted 'is_4wd' to bool type, and then we can see using info() method, there are no more missing values."
   ]
  },
  {
   "cell_type": "code",
   "execution_count": 627,
   "metadata": {},
   "outputs": [
    {
     "data": {
      "text/plain": [
       "price                    int64\n",
       "model_year             float64\n",
       "model                   object\n",
       "condition               object\n",
       "cylinders              float64\n",
       "fuel                    object\n",
       "odometer               float64\n",
       "transmission            object\n",
       "type                    object\n",
       "paint_color             object\n",
       "is_4wd                    bool\n",
       "date_posted     datetime64[ns]\n",
       "days_listed              int64\n",
       "dtype: object"
      ]
     },
     "execution_count": 627,
     "metadata": {},
     "output_type": "execute_result"
    }
   ],
   "source": [
    "data['date_posted'] = pd.to_datetime(data['date_posted'],format='%Y-%m-%d')\n",
    "data.dtypes"
   ]
  },
  {
   "cell_type": "markdown",
   "metadata": {},
   "source": [
    "I converted 'date_posted' to datetime64 type and checked it with dtypes attribute."
   ]
  },
  {
   "cell_type": "code",
   "execution_count": 628,
   "metadata": {},
   "outputs": [
    {
     "name": "stdout",
     "output_type": "stream",
     "text": [
      "Empty DataFrame\n",
      "Columns: [price, model_year, model, condition, cylinders, fuel, odometer, transmission, type, paint_color, is_4wd, date_posted, days_listed]\n",
      "Index: []\n"
     ]
    }
   ],
   "source": [
    "data['paint_color'] = data['paint_color'].fillna('Unknown')\n",
    "print(data.query('paint_color.isnull()'))"
   ]
  },
  {
   "cell_type": "markdown",
   "metadata": {},
   "source": [
    "I filled missing values in 'paint_color' with 'Unknown' string and checked are there any missing values left. There aren't any.\n",
    "One of the reasons why the values are missing in 'paint_color' could be the seller included photo of the vehicle in the add. Then the color is obvious from the photo and there is no big need to emphasize 'paint_color'. Maybe one of the value in process of collecting the data could be 'photo_in_add' with bool type."
   ]
  },
  {
   "cell_type": "code",
   "execution_count": 629,
   "metadata": {},
   "outputs": [
    {
     "name": "stdout",
     "output_type": "stream",
     "text": [
      "       price  model_year              model  condition  cylinders fuel  \\\n",
      "33906  12995      1908.0          gmc yukon       good        8.0  gas   \n",
      "33907  12995      1908.0  cadillac escalade  excellent        8.0  gas   \n",
      "\n",
      "       odometer transmission type paint_color  is_4wd date_posted  days_listed  \n",
      "33906  169328.0    automatic  SUV       black    True  2018-07-06           34  \n",
      "33907       NaN    automatic  SUV       white    True  2018-06-24           25  \n"
     ]
    }
   ],
   "source": [
    "print(data.query('model_year == 1908'))"
   ]
  },
  {
   "cell_type": "markdown",
   "metadata": {},
   "source": [
    "There are only 2 ads with model_year from 1908. These vehicles are described to be automatic SUVs with 4-wheel drive. This means the vehicles cannot be from the year 1908."
   ]
  },
  {
   "cell_type": "code",
   "execution_count": 630,
   "metadata": {},
   "outputs": [
    {
     "name": "stdout",
     "output_type": "stream",
     "text": [
      "              missing_values  % of total\n",
      "price                      0        0.00\n",
      "model_year              3619        0.07\n",
      "model                      0        0.00\n",
      "condition                  0        0.00\n",
      "cylinders               5260        0.10\n",
      "fuel                       0        0.00\n",
      "odometer                7892        0.15\n",
      "transmission               0        0.00\n",
      "type                       0        0.00\n",
      "paint_color             9267        0.18\n",
      "is_4wd                 25953        0.50\n",
      "date_posted                0        0.00\n",
      "days_listed                0        0.00\n"
     ]
    }
   ],
   "source": [
    "print(report)"
   ]
  },
  {
   "cell_type": "markdown",
   "metadata": {},
   "source": [
    "We can read that from our raw data, there is 7% missing values in'model_year' so we can be assured that data will not be distort if we drop these 2 rows with 'model_year' == 1908."
   ]
  },
  {
   "cell_type": "code",
   "execution_count": 631,
   "metadata": {},
   "outputs": [
    {
     "name": "stdout",
     "output_type": "stream",
     "text": [
      "Empty DataFrame\n",
      "Columns: [price, model_year, model, condition, cylinders, fuel, odometer, transmission, type, paint_color, is_4wd, date_posted, days_listed]\n",
      "Index: []\n"
     ]
    }
   ],
   "source": [
    "data.drop(data.index[(data['model_year'] == 1908)],axis=0,inplace=True)\n",
    "print(data.query('model_year == 1908'))"
   ]
  },
  {
   "cell_type": "markdown",
   "metadata": {},
   "source": [
    "I deleted these 2 rows using drop() method. Afterwards I checked wheter they are deleted!"
   ]
  },
  {
   "cell_type": "code",
   "execution_count": 632,
   "metadata": {},
   "outputs": [],
   "source": [
    "data = data.reset_index(drop=True)"
   ]
  },
  {
   "cell_type": "markdown",
   "metadata": {},
   "source": [
    "I reseted the indices after deleting the rows, droping the index column with old indices as values."
   ]
  },
  {
   "cell_type": "code",
   "execution_count": 633,
   "metadata": {},
   "outputs": [
    {
     "name": "stdout",
     "output_type": "stream",
     "text": [
      "<class 'pandas.core.frame.DataFrame'>\n",
      "RangeIndex: 51523 entries, 0 to 51522\n",
      "Data columns (total 13 columns):\n",
      "price           51523 non-null int64\n",
      "model_year      47904 non-null float64\n",
      "model           51523 non-null object\n",
      "condition       51523 non-null object\n",
      "cylinders       46263 non-null float64\n",
      "fuel            51523 non-null object\n",
      "odometer        43632 non-null float64\n",
      "transmission    51523 non-null object\n",
      "type            51523 non-null object\n",
      "paint_color     51523 non-null object\n",
      "is_4wd          51523 non-null bool\n",
      "date_posted     51523 non-null datetime64[ns]\n",
      "days_listed     51523 non-null int64\n",
      "dtypes: bool(1), datetime64[ns](1), float64(3), int64(2), object(6)\n",
      "memory usage: 4.8+ MB\n"
     ]
    }
   ],
   "source": [
    "data.info()"
   ]
  },
  {
   "cell_type": "markdown",
   "metadata": {},
   "source": [
    "Now we have 51523 entries are left with missing values in model_year, cylinders and odometer."
   ]
  },
  {
   "cell_type": "code",
   "execution_count": 634,
   "metadata": {},
   "outputs": [
    {
     "name": "stdout",
     "output_type": "stream",
     "text": [
      "ford f-150                           191\n",
      "chevrolet silverado 1500             155\n",
      "ram 1500                             117\n",
      "chevrolet silverado                   98\n",
      "honda accord                          80\n",
      "                                    ... \n",
      "buick enclave                         14\n",
      "hyundai santa fe                      13\n",
      "acura tl                              12\n",
      "honda civic lx                        11\n",
      "mercedes-benz benze sprinter 2500      7\n",
      "Name: model, Length: 100, dtype: int64\n"
     ]
    }
   ],
   "source": [
    "no_model_year = data.query('model_year.isnull()')\n",
    "print(no_model_year['model'].value_counts())"
   ]
  },
  {
   "cell_type": "markdown",
   "metadata": {},
   "source": [
    "I did a data slice  no_model_year where I wanted to look up into data where 'model_year' is missing.\n",
    "Using value_count() we can see what are the most usual 'models' where we have missing 'model_year'..\n",
    "I will look up into one most common 'model'"
   ]
  },
  {
   "cell_type": "code",
   "execution_count": 635,
   "metadata": {},
   "outputs": [],
   "source": [
    "ford_f_150 = data.query('model == \"ford f-150\"')"
   ]
  },
  {
   "cell_type": "markdown",
   "metadata": {},
   "source": [
    "I am looking up \"into ford f 150\" model. I want to see most common years in this particular model."
   ]
  },
  {
   "cell_type": "code",
   "execution_count": 636,
   "metadata": {},
   "outputs": [
    {
     "name": "stdout",
     "output_type": "stream",
     "text": [
      "2013.0    252\n",
      "2014.0    222\n",
      "2011.0    222\n",
      "2010.0    202\n",
      "2016.0    160\n",
      "2015.0    150\n",
      "2012.0    144\n",
      "2018.0    122\n",
      "2006.0    122\n",
      "2005.0    117\n",
      "2007.0    116\n",
      "2008.0    107\n",
      "2004.0     86\n",
      "2017.0     82\n",
      "2009.0     73\n",
      "2003.0     70\n",
      "2002.0     58\n",
      "2001.0     44\n",
      "2000.0     44\n",
      "1998.0     43\n",
      "1999.0     36\n",
      "1997.0     29\n",
      "1995.0     18\n",
      "1996.0     14\n",
      "1994.0     13\n",
      "1993.0     11\n",
      "2019.0     10\n",
      "1989.0      5\n",
      "1992.0      5\n",
      "1979.0      5\n",
      "1991.0      4\n",
      "1986.0      4\n",
      "1988.0      4\n",
      "1987.0      4\n",
      "1990.0      2\n",
      "1936.0      1\n",
      "1954.0      1\n",
      "1929.0      1\n",
      "1975.0      1\n",
      "1977.0      1\n",
      "Name: model_year, dtype: int64\n",
      "2009.3547024952015\n",
      "2011.0\n",
      "0    2013.0\n",
      "dtype: float64\n"
     ]
    }
   ],
   "source": [
    "print(ford_f_150['model_year'].value_counts())\n",
    "print(ford_f_150['model_year'].mean())\n",
    "print(ford_f_150['model_year'].median())\n",
    "print(ford_f_150['model_year'].mode())"
   ]
  },
  {
   "cell_type": "markdown",
   "metadata": {},
   "source": [
    "Using value_counts method we can read that in model \"ford_f_150\" there are: 252 vehicles made in 2013, 222 vehicles made in 2014. but also 222 vehicles made in 2011. and 202 vehicles made in 2010. Only looking at the numbers greater than 200 we can conclude it is not smart to use mode() method to fill up the missing values in 'model_year'.\n",
    "We should use mean or median. mean is 2009. and median is 2011. According to mean and median values the data is skewed so I decided to use median to fill up the missing values in 'model_year'."
   ]
  },
  {
   "cell_type": "code",
   "execution_count": 637,
   "metadata": {},
   "outputs": [],
   "source": [
    "import numpy as np\n",
    "data['model_year'] = data.groupby('model')['model_year'].transform(lambda x : x.fillna(x.median()))"
   ]
  },
  {
   "cell_type": "markdown",
   "metadata": {},
   "source": [
    "If there is a missing 'model_year' the transform() method will perform the transformation. It will apply median() according to specific 'model' of a missing 'model_year'."
   ]
  },
  {
   "cell_type": "code",
   "execution_count": 638,
   "metadata": {},
   "outputs": [
    {
     "data": {
      "image/png": "[encoded data removed]",
      "text/plain": [
       "<Figure size 432x288 with 2 Axes>"
      ]
     },
     "metadata": {
      "needs_background": "light"
     },
     "output_type": "display_data"
    }
   ],
   "source": [
    "corrMatrix = data.corr()\n",
    "sn.heatmap(corrMatrix, annot=True)\n",
    "plt.show()"
   ]
  },
  {
   "cell_type": "markdown",
   "metadata": {},
   "source": [
    "Once again checking our correlation matrix, we can se there is a strong dependency between 'model_year' and 'price' (0.42). This mean the \"younger\" the vehicle, higher the price. This could be the reason why there are around 7% of missing values in 'model_year'."
   ]
  },
  {
   "cell_type": "code",
   "execution_count": 639,
   "metadata": {
    "scrolled": true
   },
   "outputs": [
    {
     "name": "stdout",
     "output_type": "stream",
     "text": [
      "<class 'pandas.core.frame.DataFrame'>\n",
      "RangeIndex: 51523 entries, 0 to 51522\n",
      "Data columns (total 13 columns):\n",
      "price           51523 non-null int64\n",
      "model_year      51523 non-null int64\n",
      "model           51523 non-null object\n",
      "condition       51523 non-null object\n",
      "cylinders       46263 non-null float64\n",
      "fuel            51523 non-null object\n",
      "odometer        43632 non-null float64\n",
      "transmission    51523 non-null object\n",
      "type            51523 non-null object\n",
      "paint_color     51523 non-null object\n",
      "is_4wd          51523 non-null bool\n",
      "date_posted     51523 non-null datetime64[ns]\n",
      "days_listed     51523 non-null int64\n",
      "dtypes: bool(1), datetime64[ns](1), float64(2), int64(3), object(6)\n",
      "memory usage: 4.8+ MB\n"
     ]
    }
   ],
   "source": [
    "data['model_year'] = data['model_year'].astype('int64')\n",
    "data.info()"
   ]
  },
  {
   "cell_type": "markdown",
   "metadata": {},
   "source": [
    "After filling the missing values, I decided to convert 'model_year' type from float64 to int64.\n",
    "\n",
    "We can see now that 'model_year' has no more mising values. Now we need to look at 'cylinders' and 'odometer'.\n",
    "Again looking at our correlation matrix, we can see 'cylinders' have the strongest correlation with 'price' (0.3).\n",
    "It means the biger number of cylinders, the higer price of a vehicle. This could be one of the reasons why there are 10% missing values in 'cylinders'."
   ]
  },
  {
   "cell_type": "code",
   "execution_count": 640,
   "metadata": {},
   "outputs": [
    {
     "name": "stdout",
     "output_type": "stream",
     "text": [
      "ford f-150                           316\n",
      "chevrolet silverado 1500             231\n",
      "ram 1500                             185\n",
      "chevrolet silverado                  137\n",
      "ram 2500                             122\n",
      "                                    ... \n",
      "ford f150 supercrew cab xlt           20\n",
      "ford f350 super duty                  20\n",
      "dodge dakota                          18\n",
      "bmw x5                                16\n",
      "mercedes-benz benze sprinter 2500      7\n",
      "Name: model, Length: 100, dtype: int64\n"
     ]
    }
   ],
   "source": [
    "no_cylinder = data.query('cylinders.isnull()')\n",
    "print(no_cylinder['model'].value_counts())"
   ]
  },
  {
   "cell_type": "markdown",
   "metadata": {},
   "source": [
    "Again, we can see the models with the most missing values in 'model_year' are the same models with the most missing values in 'cylinder'."
   ]
  },
  {
   "cell_type": "code",
   "execution_count": 641,
   "metadata": {
    "scrolled": true
   },
   "outputs": [
    {
     "name": "stdout",
     "output_type": "stream",
     "text": [
      "8.0     1584\n",
      "6.0      863\n",
      "10.0      18\n",
      "4.0       11\n",
      "5.0        2\n",
      "3.0        2\n",
      "Name: cylinders, dtype: int64\n",
      "0    8.0\n",
      "dtype: float64\n",
      "7.294354838709677\n",
      "8.0\n"
     ]
    }
   ],
   "source": [
    "print(ford_f_150['cylinders'].value_counts())\n",
    "print(ford_f_150['cylinders'].mode())\n",
    "print(ford_f_150['cylinders'].mean())\n",
    "print(ford_f_150['cylinders'].median())"
   ]
  },
  {
   "cell_type": "markdown",
   "metadata": {},
   "source": [
    "Now the mode and the median are equal but I decided again to take the median to fill up the missing values in 'cylinders'."
   ]
  },
  {
   "cell_type": "code",
   "execution_count": 642,
   "metadata": {},
   "outputs": [],
   "source": [
    "data['cylinders'] = data.groupby('model')['cylinders'].transform(lambda x : x.fillna(x.median()))"
   ]
  },
  {
   "cell_type": "markdown",
   "metadata": {},
   "source": [
    "I used the grouping of the data too fill in the missing values."
   ]
  },
  {
   "cell_type": "code",
   "execution_count": 643,
   "metadata": {},
   "outputs": [
    {
     "name": "stdout",
     "output_type": "stream",
     "text": [
      "<class 'pandas.core.frame.DataFrame'>\n",
      "RangeIndex: 51523 entries, 0 to 51522\n",
      "Data columns (total 13 columns):\n",
      "price           51523 non-null int64\n",
      "model_year      51523 non-null int64\n",
      "model           51523 non-null object\n",
      "condition       51523 non-null object\n",
      "cylinders       51523 non-null int64\n",
      "fuel            51523 non-null object\n",
      "odometer        43632 non-null float64\n",
      "transmission    51523 non-null object\n",
      "type            51523 non-null object\n",
      "paint_color     51523 non-null object\n",
      "is_4wd          51523 non-null bool\n",
      "date_posted     51523 non-null datetime64[ns]\n",
      "days_listed     51523 non-null int64\n",
      "dtypes: bool(1), datetime64[ns](1), float64(1), int64(4), object(6)\n",
      "memory usage: 4.8+ MB\n"
     ]
    }
   ],
   "source": [
    "data['cylinders'] = data['cylinders'].astype('int64')\n",
    "data.info()"
   ]
  },
  {
   "cell_type": "markdown",
   "metadata": {},
   "source": [
    "Now there are only missing values in 'cylinders' left and I converted float64 type to int64 type."
   ]
  },
  {
   "cell_type": "code",
   "execution_count": 644,
   "metadata": {},
   "outputs": [
    {
     "data": {
      "image/png": "[encoded data removed]",
      "text/plain": [
       "<Figure size 432x288 with 2 Axes>"
      ]
     },
     "metadata": {
      "needs_background": "light"
     },
     "output_type": "display_data"
    }
   ],
   "source": [
    "sn.heatmap(corrMatrix, annot=True)\n",
    "plt.show()"
   ]
  },
  {
   "cell_type": "markdown",
   "metadata": {},
   "source": [
    "Again from our correlation matrix we can read there is the strongest  correlation between 'odometer' and 'model_year' (-0.46.)\n",
    "This would mean the higher the 'model_year' (the \"younger\" the vehical), the lower the mileage. This is why I decided to fill up missing values in 'odometer' with corresponding mileage grouped by a 'model_year'.\n",
    "\n",
    "As well, we can see stong dependency with 'price' and 'odometer' (-0.42). It means the higher mileage, lower the price of a vehicle. This is probably why there are 15% missing values in 'odometer'. People would rather not talk about how many miles has their vehicle in the wheels. "
   ]
  },
  {
   "cell_type": "code",
   "execution_count": 645,
   "metadata": {},
   "outputs": [
    {
     "name": "stdout",
     "output_type": "stream",
     "text": [
      "2013    645\n",
      "2012    613\n",
      "2011    612\n",
      "2008    558\n",
      "2014    557\n",
      "2015    519\n",
      "2010    463\n",
      "2016    455\n",
      "2007    406\n",
      "2017    381\n",
      "2009    369\n",
      "2018    343\n",
      "2005    330\n",
      "2006    325\n",
      "2004    252\n",
      "2003    216\n",
      "2002    162\n",
      "2000    138\n",
      "2001    130\n",
      "1999     78\n",
      "1998     61\n",
      "1997     55\n",
      "2019     52\n",
      "1996     26\n",
      "1995     24\n",
      "1993     22\n",
      "1994     19\n",
      "1989     14\n",
      "1986      8\n",
      "1990      8\n",
      "1992      8\n",
      "1991      5\n",
      "1988      4\n",
      "1968      4\n",
      "1966      4\n",
      "1970      3\n",
      "1977      3\n",
      "1978      2\n",
      "1983      2\n",
      "1975      1\n",
      "1964      1\n",
      "1987      1\n",
      "1976      1\n",
      "1980      1\n",
      "1979      1\n",
      "1963      1\n",
      "1971      1\n",
      "1985      1\n",
      "1982      1\n",
      "1974      1\n",
      "1929      1\n",
      "1973      1\n",
      "1981      1\n",
      "1960      1\n",
      "Name: model_year, dtype: int64\n",
      "2009.8415916867318\n",
      "2011.0\n",
      "0    2013\n",
      "dtype: int64\n"
     ]
    }
   ],
   "source": [
    "print(data.query('odometer.isnull()')['model_year'].value_counts())\n",
    "print(data.query('odometer.isnull()')['model_year'].mean())\n",
    "print(data.query('odometer.isnull()')['model_year'].median())\n",
    "print(data.query('odometer.isnull()')['model_year'].mode())"
   ]
  },
  {
   "cell_type": "markdown",
   "metadata": {},
   "source": [
    "I have checked what are the most common years for vehicles with a missing value in 'odometer'.\n",
    "I printed mean 'model_year', median and mode. Considering these values, I will fill the missing values in 'odometer' again using median value."
   ]
  },
  {
   "cell_type": "code",
   "execution_count": 646,
   "metadata": {},
   "outputs": [
    {
     "name": "stderr",
     "output_type": "stream",
     "text": [
      "/opt/conda/lib/python3.7/site-packages/numpy/lib/nanfunctions.py:1111: RuntimeWarning: Mean of empty slice\n",
      "  return np.nanmean(a, axis, out=out, keepdims=keepdims)\n"
     ]
    }
   ],
   "source": [
    "data['odometer'] = data.groupby('model_year')['odometer'].transform(lambda x : x.fillna(x.median()))"
   ]
  },
  {
   "cell_type": "code",
   "execution_count": 647,
   "metadata": {},
   "outputs": [
    {
     "name": "stdout",
     "output_type": "stream",
     "text": [
      "<class 'pandas.core.frame.DataFrame'>\n",
      "RangeIndex: 51523 entries, 0 to 51522\n",
      "Data columns (total 13 columns):\n",
      "price           51523 non-null int64\n",
      "model_year      51523 non-null int64\n",
      "model           51523 non-null object\n",
      "condition       51523 non-null object\n",
      "cylinders       51523 non-null int64\n",
      "fuel            51523 non-null object\n",
      "odometer        51522 non-null float64\n",
      "transmission    51523 non-null object\n",
      "type            51523 non-null object\n",
      "paint_color     51523 non-null object\n",
      "is_4wd          51523 non-null bool\n",
      "date_posted     51523 non-null datetime64[ns]\n",
      "days_listed     51523 non-null int64\n",
      "dtypes: bool(1), datetime64[ns](1), float64(1), int64(4), object(6)\n",
      "memory usage: 4.8+ MB\n"
     ]
    }
   ],
   "source": [
    "data.info()"
   ]
  },
  {
   "cell_type": "markdown",
   "metadata": {},
   "source": [
    "There is one missing value left in 'odometer'. Let's check this."
   ]
  },
  {
   "cell_type": "code",
   "execution_count": 648,
   "metadata": {},
   "outputs": [
    {
     "data": {
      "text/html": [
       "<div>\n",
       "<style scoped>\n",
       "    .dataframe tbody tr th:only-of-type {\n",
       "        vertical-align: middle;\n",
       "    }\n",
       "\n",
       "    .dataframe tbody tr th {\n",
       "        vertical-align: top;\n",
       "    }\n",
       "\n",
       "    .dataframe thead th {\n",
       "        text-align: right;\n",
       "    }\n",
       "</style>\n",
       "<table border=\"1\" class=\"dataframe\">\n",
       "  <thead>\n",
       "    <tr style=\"text-align: right;\">\n",
       "      <th></th>\n",
       "      <th>price</th>\n",
       "      <th>model_year</th>\n",
       "      <th>model</th>\n",
       "      <th>condition</th>\n",
       "      <th>cylinders</th>\n",
       "      <th>fuel</th>\n",
       "      <th>odometer</th>\n",
       "      <th>transmission</th>\n",
       "      <th>type</th>\n",
       "      <th>paint_color</th>\n",
       "      <th>is_4wd</th>\n",
       "      <th>date_posted</th>\n",
       "      <th>days_listed</th>\n",
       "    </tr>\n",
       "  </thead>\n",
       "  <tbody>\n",
       "    <tr>\n",
       "      <td>45692</td>\n",
       "      <td>18000</td>\n",
       "      <td>1929</td>\n",
       "      <td>ford f-150</td>\n",
       "      <td>good</td>\n",
       "      <td>8</td>\n",
       "      <td>gas</td>\n",
       "      <td>NaN</td>\n",
       "      <td>manual</td>\n",
       "      <td>other</td>\n",
       "      <td>silver</td>\n",
       "      <td>True</td>\n",
       "      <td>2018-11-18</td>\n",
       "      <td>59</td>\n",
       "    </tr>\n",
       "  </tbody>\n",
       "</table>\n",
       "</div>"
      ],
      "text/plain": [
       "       price  model_year       model condition  cylinders fuel  odometer  \\\n",
       "45692  18000        1929  ford f-150      good          8  gas       NaN   \n",
       "\n",
       "      transmission   type paint_color  is_4wd date_posted  days_listed  \n",
       "45692       manual  other      silver    True  2018-11-18           59  "
      ]
     },
     "execution_count": 648,
     "metadata": {},
     "output_type": "execute_result"
    }
   ],
   "source": [
    "data[data.isnull().any(axis=1)]"
   ]
  },
  {
   "cell_type": "markdown",
   "metadata": {},
   "source": [
    "For some reason, there is one row with missing value in 'odometer'. It was not filled during the last transform method. I will delete this row."
   ]
  },
  {
   "cell_type": "markdown",
   "metadata": {},
   "source": [
    "<font color='Purple'> I have no idea why the transform function did not work on this row. </font>"
   ]
  },
  {
   "cell_type": "code",
   "execution_count": 649,
   "metadata": {},
   "outputs": [
    {
     "name": "stdout",
     "output_type": "stream",
     "text": [
      "   price  model_year           model  condition  cylinders fuel  odometer  \\\n",
      "0   9400        2011          bmw x5       good          6  gas  145000.0   \n",
      "1  25500        2011      ford f-150       good          6  gas   88705.0   \n",
      "2   5500        2013  hyundai sonata   like new          4  gas  110000.0   \n",
      "3   1500        2003      ford f-150       fair          8  gas  161397.0   \n",
      "4  14900        2017    chrysler 200  excellent          4  gas   80903.0   \n",
      "\n",
      "  transmission    type paint_color  is_4wd date_posted  days_listed  \n",
      "0    automatic     SUV     Unknown    True  2018-06-23           19  \n",
      "1    automatic  pickup       white    True  2018-10-19           50  \n",
      "2    automatic   sedan         red    True  2019-02-07           79  \n",
      "3    automatic  pickup     Unknown    True  2019-03-22            9  \n",
      "4    automatic   sedan       black    True  2019-04-02           28  \n",
      "<class 'pandas.core.frame.DataFrame'>\n",
      "RangeIndex: 51522 entries, 0 to 51521\n",
      "Data columns (total 13 columns):\n",
      "price           51522 non-null int64\n",
      "model_year      51522 non-null int64\n",
      "model           51522 non-null object\n",
      "condition       51522 non-null object\n",
      "cylinders       51522 non-null int64\n",
      "fuel            51522 non-null object\n",
      "odometer        51522 non-null float64\n",
      "transmission    51522 non-null object\n",
      "type            51522 non-null object\n",
      "paint_color     51522 non-null object\n",
      "is_4wd          51522 non-null bool\n",
      "date_posted     51522 non-null datetime64[ns]\n",
      "days_listed     51522 non-null int64\n",
      "dtypes: bool(1), datetime64[ns](1), float64(1), int64(4), object(6)\n",
      "memory usage: 4.8+ MB\n"
     ]
    }
   ],
   "source": [
    "data.dropna(axis=0,inplace=True)\n",
    "data.reset_index(inplace=True,drop=True)\n",
    "print(data.head())\n",
    "data.info()"
   ]
  },
  {
   "cell_type": "markdown",
   "metadata": {},
   "source": [
    "There are no missing values left."
   ]
  },
  {
   "cell_type": "code",
   "execution_count": 650,
   "metadata": {},
   "outputs": [
    {
     "data": {
      "text/html": [
       "<div>\n",
       "<style scoped>\n",
       "    .dataframe tbody tr th:only-of-type {\n",
       "        vertical-align: middle;\n",
       "    }\n",
       "\n",
       "    .dataframe tbody tr th {\n",
       "        vertical-align: top;\n",
       "    }\n",
       "\n",
       "    .dataframe thead th {\n",
       "        text-align: right;\n",
       "    }\n",
       "</style>\n",
       "<table border=\"1\" class=\"dataframe\">\n",
       "  <thead>\n",
       "    <tr style=\"text-align: right;\">\n",
       "      <th></th>\n",
       "      <th>price</th>\n",
       "      <th>model_year</th>\n",
       "      <th>cylinders</th>\n",
       "      <th>odometer</th>\n",
       "      <th>days_listed</th>\n",
       "    </tr>\n",
       "  </thead>\n",
       "  <tbody>\n",
       "    <tr>\n",
       "      <td>count</td>\n",
       "      <td>51522.000000</td>\n",
       "      <td>51522.000000</td>\n",
       "      <td>51522.000000</td>\n",
       "      <td>51522.000000</td>\n",
       "      <td>51522.000000</td>\n",
       "    </tr>\n",
       "    <tr>\n",
       "      <td>mean</td>\n",
       "      <td>12132.317554</td>\n",
       "      <td>2009.799076</td>\n",
       "      <td>6.120958</td>\n",
       "      <td>115197.207106</td>\n",
       "      <td>39.554773</td>\n",
       "    </tr>\n",
       "    <tr>\n",
       "      <td>std</td>\n",
       "      <td>10041.060628</td>\n",
       "      <td>6.056042</td>\n",
       "      <td>1.657443</td>\n",
       "      <td>62083.267532</td>\n",
       "      <td>28.204877</td>\n",
       "    </tr>\n",
       "    <tr>\n",
       "      <td>min</td>\n",
       "      <td>1.000000</td>\n",
       "      <td>1936.000000</td>\n",
       "      <td>3.000000</td>\n",
       "      <td>0.000000</td>\n",
       "      <td>0.000000</td>\n",
       "    </tr>\n",
       "    <tr>\n",
       "      <td>25%</td>\n",
       "      <td>5000.000000</td>\n",
       "      <td>2007.000000</td>\n",
       "      <td>4.000000</td>\n",
       "      <td>73500.000000</td>\n",
       "      <td>19.000000</td>\n",
       "    </tr>\n",
       "    <tr>\n",
       "      <td>50%</td>\n",
       "      <td>9000.000000</td>\n",
       "      <td>2011.000000</td>\n",
       "      <td>6.000000</td>\n",
       "      <td>114072.000000</td>\n",
       "      <td>33.000000</td>\n",
       "    </tr>\n",
       "    <tr>\n",
       "      <td>75%</td>\n",
       "      <td>16838.000000</td>\n",
       "      <td>2014.000000</td>\n",
       "      <td>8.000000</td>\n",
       "      <td>152809.000000</td>\n",
       "      <td>53.000000</td>\n",
       "    </tr>\n",
       "    <tr>\n",
       "      <td>max</td>\n",
       "      <td>375000.000000</td>\n",
       "      <td>2019.000000</td>\n",
       "      <td>12.000000</td>\n",
       "      <td>990000.000000</td>\n",
       "      <td>271.000000</td>\n",
       "    </tr>\n",
       "  </tbody>\n",
       "</table>\n",
       "</div>"
      ],
      "text/plain": [
       "               price    model_year     cylinders       odometer   days_listed\n",
       "count   51522.000000  51522.000000  51522.000000   51522.000000  51522.000000\n",
       "mean    12132.317554   2009.799076      6.120958  115197.207106     39.554773\n",
       "std     10041.060628      6.056042      1.657443   62083.267532     28.204877\n",
       "min         1.000000   1936.000000      3.000000       0.000000      0.000000\n",
       "25%      5000.000000   2007.000000      4.000000   73500.000000     19.000000\n",
       "50%      9000.000000   2011.000000      6.000000  114072.000000     33.000000\n",
       "75%     16838.000000   2014.000000      8.000000  152809.000000     53.000000\n",
       "max    375000.000000   2019.000000     12.000000  990000.000000    271.000000"
      ]
     },
     "execution_count": 650,
     "metadata": {},
     "output_type": "execute_result"
    }
   ],
   "source": [
    "data.describe()"
   ]
  },
  {
   "cell_type": "markdown",
   "metadata": {},
   "source": [
    "I will replace all the zero values in 'odometer' with corresponding median value determined by grouping the 'model_year'."
   ]
  },
  {
   "cell_type": "code",
   "execution_count": 651,
   "metadata": {},
   "outputs": [],
   "source": [
    "data['odometer'] = data.groupby('model_year')['odometer'].transform(lambda x : x.replace(0,x.median()))"
   ]
  },
  {
   "cell_type": "code",
   "execution_count": 652,
   "metadata": {},
   "outputs": [
    {
     "data": {
      "text/html": [
       "<div>\n",
       "<style scoped>\n",
       "    .dataframe tbody tr th:only-of-type {\n",
       "        vertical-align: middle;\n",
       "    }\n",
       "\n",
       "    .dataframe tbody tr th {\n",
       "        vertical-align: top;\n",
       "    }\n",
       "\n",
       "    .dataframe thead th {\n",
       "        text-align: right;\n",
       "    }\n",
       "</style>\n",
       "<table border=\"1\" class=\"dataframe\">\n",
       "  <thead>\n",
       "    <tr style=\"text-align: right;\">\n",
       "      <th></th>\n",
       "      <th>price</th>\n",
       "      <th>model_year</th>\n",
       "      <th>cylinders</th>\n",
       "      <th>odometer</th>\n",
       "      <th>days_listed</th>\n",
       "    </tr>\n",
       "  </thead>\n",
       "  <tbody>\n",
       "    <tr>\n",
       "      <td>count</td>\n",
       "      <td>51522.000000</td>\n",
       "      <td>51522.000000</td>\n",
       "      <td>51522.000000</td>\n",
       "      <td>51522.000000</td>\n",
       "      <td>51522.000000</td>\n",
       "    </tr>\n",
       "    <tr>\n",
       "      <td>mean</td>\n",
       "      <td>12132.317554</td>\n",
       "      <td>2009.799076</td>\n",
       "      <td>6.120958</td>\n",
       "      <td>115616.485336</td>\n",
       "      <td>39.554773</td>\n",
       "    </tr>\n",
       "    <tr>\n",
       "      <td>std</td>\n",
       "      <td>10041.060628</td>\n",
       "      <td>6.056042</td>\n",
       "      <td>1.657443</td>\n",
       "      <td>61746.666830</td>\n",
       "      <td>28.204877</td>\n",
       "    </tr>\n",
       "    <tr>\n",
       "      <td>min</td>\n",
       "      <td>1.000000</td>\n",
       "      <td>1936.000000</td>\n",
       "      <td>3.000000</td>\n",
       "      <td>1.000000</td>\n",
       "      <td>0.000000</td>\n",
       "    </tr>\n",
       "    <tr>\n",
       "      <td>25%</td>\n",
       "      <td>5000.000000</td>\n",
       "      <td>2007.000000</td>\n",
       "      <td>4.000000</td>\n",
       "      <td>74000.000000</td>\n",
       "      <td>19.000000</td>\n",
       "    </tr>\n",
       "    <tr>\n",
       "      <td>50%</td>\n",
       "      <td>9000.000000</td>\n",
       "      <td>2011.000000</td>\n",
       "      <td>6.000000</td>\n",
       "      <td>114764.500000</td>\n",
       "      <td>33.000000</td>\n",
       "    </tr>\n",
       "    <tr>\n",
       "      <td>75%</td>\n",
       "      <td>16838.000000</td>\n",
       "      <td>2014.000000</td>\n",
       "      <td>8.000000</td>\n",
       "      <td>153000.000000</td>\n",
       "      <td>53.000000</td>\n",
       "    </tr>\n",
       "    <tr>\n",
       "      <td>max</td>\n",
       "      <td>375000.000000</td>\n",
       "      <td>2019.000000</td>\n",
       "      <td>12.000000</td>\n",
       "      <td>990000.000000</td>\n",
       "      <td>271.000000</td>\n",
       "    </tr>\n",
       "  </tbody>\n",
       "</table>\n",
       "</div>"
      ],
      "text/plain": [
       "               price    model_year     cylinders       odometer   days_listed\n",
       "count   51522.000000  51522.000000  51522.000000   51522.000000  51522.000000\n",
       "mean    12132.317554   2009.799076      6.120958  115616.485336     39.554773\n",
       "std     10041.060628      6.056042      1.657443   61746.666830     28.204877\n",
       "min         1.000000   1936.000000      3.000000       1.000000      0.000000\n",
       "25%      5000.000000   2007.000000      4.000000   74000.000000     19.000000\n",
       "50%      9000.000000   2011.000000      6.000000  114764.500000     33.000000\n",
       "75%     16838.000000   2014.000000      8.000000  153000.000000     53.000000\n",
       "max    375000.000000   2019.000000     12.000000  990000.000000    271.000000"
      ]
     },
     "execution_count": 652,
     "metadata": {},
     "output_type": "execute_result"
    }
   ],
   "source": [
    "data.describe()"
   ]
  },
  {
   "cell_type": "markdown",
   "metadata": {},
   "source": [
    "We can compare descriptive statistic before and after the replacing zeros. The values did not change significantly."
   ]
  },
  {
   "cell_type": "code",
   "execution_count": 653,
   "metadata": {},
   "outputs": [
    {
     "name": "stdout",
     "output_type": "stream",
     "text": [
      "0.015488529172004193\n"
     ]
    }
   ],
   "source": [
    "print(len(data.query('price == 1'))/len(data))"
   ]
  },
  {
   "cell_type": "markdown",
   "metadata": {},
   "source": [
    "There is only 1 percent of data with price equals 1. So I will ignore this artifact because it does not significaly effects my data."
   ]
  },
  {
   "cell_type": "code",
   "execution_count": 654,
   "metadata": {},
   "outputs": [
    {
     "name": "stdout",
     "output_type": "stream",
     "text": [
      "0.0010480959590078024\n"
     ]
    }
   ],
   "source": [
    "print(len(data.query('days_listed == 0'))/len(data))"
   ]
  },
  {
   "cell_type": "markdown",
   "metadata": {},
   "source": [
    "Pecentage of data with ads listed 0 days is also very low so I will not change it as well."
   ]
  },
  {
   "cell_type": "markdown",
   "metadata": {},
   "source": [
    "### Conclusion"
   ]
  },
  {
   "cell_type": "markdown",
   "metadata": {},
   "source": [
    "In the data preprocessing part I have changed types pf some data parameters ('is_4wd' to bool,'date_posted' to datetime64, 'model_year' and 'cylinders' to int64.\n",
    "I filled all the missing values using group method and median value.\n",
    "All together, I deleted 3 rows.\n",
    "Zero values for 'odometer' have been replaced with corresponding median value of grouped data by 'model_year'.\n",
    "Some artifacts I left unchanged becase their shair in data is not significant."
   ]
  },
  {
   "cell_type": "markdown",
   "metadata": {},
   "source": [
    "<div class=\"alert alert-block alert-success\">\n",
    "    <h2>Reviewer's commentary: second iteration of the review <a class=\"tocSkip\"> </h2>\n",
    "    <br/>\n",
    "<b>Well done!👍:</b> \n",
    "        \n",
    "Ok, you are doing great! It is really nice that you try to reconsider your work with missing values, I hope it was useful for the widening of your knowledge and practice!"
   ]
  },
  {
   "cell_type": "markdown",
   "metadata": {},
   "source": [
    "### Step 3. Make calculations and add them to the table"
   ]
  },
  {
   "cell_type": "code",
   "execution_count": 655,
   "metadata": {},
   "outputs": [],
   "source": [
    "data['day_of_ad_placement'] = data['date_posted'].dt.day_name()"
   ]
  },
  {
   "cell_type": "markdown",
   "metadata": {},
   "source": [
    "Using .dt.day_name I added a new 'day_of_ad_placement' column to store the day of the week the ad was placed."
   ]
  },
  {
   "cell_type": "code",
   "execution_count": 656,
   "metadata": {},
   "outputs": [],
   "source": [
    "data['month_of_ad_placement'] = data['date_posted'].dt.month_name()"
   ]
  },
  {
   "cell_type": "markdown",
   "metadata": {},
   "source": [
    "Using .dt.month_name I added a new 'month_of_ad_placement' column to store the month of the year the ad was placed."
   ]
  },
  {
   "cell_type": "code",
   "execution_count": 657,
   "metadata": {},
   "outputs": [],
   "source": [
    "data['year_of_ad_placement'] = data['date_posted'].dt.year"
   ]
  },
  {
   "cell_type": "markdown",
   "metadata": {},
   "source": [
    "Using .dt.year I added a new 'year_of_ad_placement' column to store the year the ad was placed."
   ]
  },
  {
   "cell_type": "code",
   "execution_count": 658,
   "metadata": {},
   "outputs": [],
   "source": [
    "data['age_of_vehicle'] = data['year_of_ad_placement'] - data['model_year']"
   ]
  },
  {
   "cell_type": "markdown",
   "metadata": {},
   "source": [
    "I added a column of vehicle's age (in years) when the ad was placed."
   ]
  },
  {
   "cell_type": "code",
   "execution_count": 659,
   "metadata": {
    "scrolled": true
   },
   "outputs": [
    {
     "data": {
      "text/plain": [
       "count    51522.000000\n",
       "mean         8.508404\n",
       "std          6.070014\n",
       "min          0.000000\n",
       "25%          4.000000\n",
       "50%          8.000000\n",
       "75%         12.000000\n",
       "max         82.000000\n",
       "Name: age_of_vehicle, dtype: float64"
      ]
     },
     "execution_count": 659,
     "metadata": {},
     "output_type": "execute_result"
    }
   ],
   "source": [
    "data['age_of_vehicle'].describe()"
   ]
  },
  {
   "cell_type": "markdown",
   "metadata": {},
   "source": [
    "describe() method shows us that we have zero value for some 'age_of_vehicle'.\n",
    "I will replace all zeros with 1 in 'age_of_vehicle'. It is more practical for future calculations because next task is dividing with 'age_of_vehicle', and dividing with 0 is not defined in mathematics."
   ]
  },
  {
   "cell_type": "code",
   "execution_count": 660,
   "metadata": {},
   "outputs": [
    {
     "name": "stdout",
     "output_type": "stream",
     "text": [
      "Empty DataFrame\n",
      "Columns: [price, model_year, model, condition, cylinders, fuel, odometer, transmission, type, paint_color, is_4wd, date_posted, days_listed, day_of_ad_placement, month_of_ad_placement, year_of_ad_placement, age_of_vehicle]\n",
      "Index: []\n"
     ]
    }
   ],
   "source": [
    "data['age_of_vehicle'] = data['age_of_vehicle'].replace(0,1)\n",
    "print(data.query('age_of_vehicle==0'))"
   ]
  },
  {
   "cell_type": "markdown",
   "metadata": {},
   "source": [
    "In 'age_of_vehicle' column I replaced 0 with 1 using replace() method.\n",
    "Outputing data slice with 'age_of_vehicle==0' we got an Empty DataFrame, which tells us that replacement was successful."
   ]
  },
  {
   "cell_type": "code",
   "execution_count": 661,
   "metadata": {},
   "outputs": [],
   "source": [
    "data['miles_per_year'] = data['odometer'] / data['age_of_vehicle']"
   ]
  },
  {
   "cell_type": "markdown",
   "metadata": {},
   "source": [
    "I added a column of vehicle's average mileage per year."
   ]
  },
  {
   "cell_type": "code",
   "execution_count": 662,
   "metadata": {},
   "outputs": [
    {
     "name": "stdout",
     "output_type": "stream",
     "text": [
      "excellent    24772\n",
      "good         20143\n",
      "like new      4742\n",
      "fair          1607\n",
      "new            143\n",
      "salvage        115\n",
      "Name: condition, dtype: int64\n"
     ]
    }
   ],
   "source": [
    "print(data['condition'].value_counts())"
   ]
  },
  {
   "cell_type": "markdown",
   "metadata": {},
   "source": [
    "I looked up value_counts() for 'condition' column."
   ]
  },
  {
   "cell_type": "code",
   "execution_count": 664,
   "metadata": {},
   "outputs": [],
   "source": [
    "data['condition'] = data['condition'].replace({'new' : 5,'like new' : 4,'excellent':3,'good':2,'fair':1,'salvage':0})"
   ]
  },
  {
   "cell_type": "markdown",
   "metadata": {},
   "source": [
    "In the 'condition' column I replaced string values with a numeric scale: new = 5, like new =  4, excellent = 3, good = 2, fair = 1, salvage = 0."
   ]
  },
  {
   "cell_type": "code",
   "execution_count": 665,
   "metadata": {},
   "outputs": [
    {
     "name": "stdout",
     "output_type": "stream",
     "text": [
      "3    24772\n",
      "2    20143\n",
      "4     4742\n",
      "1     1607\n",
      "5      143\n",
      "0      115\n",
      "Name: condition, dtype: int64\n"
     ]
    }
   ],
   "source": [
    "print(data['condition'].value_counts())"
   ]
  },
  {
   "cell_type": "markdown",
   "metadata": {},
   "source": [
    "Using again value_counts() I could compare the outputs from before. Replacement was successful."
   ]
  },
  {
   "cell_type": "code",
   "execution_count": 666,
   "metadata": {},
   "outputs": [
    {
     "data": {
      "text/plain": [
       "price                             int64\n",
       "model_year                        int64\n",
       "model                            object\n",
       "condition                         int64\n",
       "cylinders                         int64\n",
       "fuel                             object\n",
       "odometer                        float64\n",
       "transmission                     object\n",
       "type                             object\n",
       "paint_color                      object\n",
       "is_4wd                             bool\n",
       "date_posted              datetime64[ns]\n",
       "days_listed                       int64\n",
       "day_of_ad_placement              object\n",
       "month_of_ad_placement            object\n",
       "year_of_ad_placement              int64\n",
       "age_of_vehicle                    int64\n",
       "miles_per_year                  float64\n",
       "dtype: object"
      ]
     },
     "execution_count": 666,
     "metadata": {},
     "output_type": "execute_result"
    }
   ],
   "source": [
    "data.dtypes"
   ]
  },
  {
   "cell_type": "markdown",
   "metadata": {},
   "source": [
    "All the values seem to have correct type."
   ]
  },
  {
   "cell_type": "code",
   "execution_count": 667,
   "metadata": {},
   "outputs": [
    {
     "name": "stdout",
     "output_type": "stream",
     "text": [
      "   price  model_year           model  condition  cylinders fuel  odometer  \\\n",
      "0   9400        2011          bmw x5          2          6  gas  145000.0   \n",
      "1  25500        2011      ford f-150          2          6  gas   88705.0   \n",
      "2   5500        2013  hyundai sonata          4          4  gas  110000.0   \n",
      "3   1500        2003      ford f-150          1          8  gas  161397.0   \n",
      "4  14900        2017    chrysler 200          3          4  gas   80903.0   \n",
      "\n",
      "  transmission    type paint_color  is_4wd date_posted  days_listed  \\\n",
      "0    automatic     SUV     Unknown    True  2018-06-23           19   \n",
      "1    automatic  pickup       white    True  2018-10-19           50   \n",
      "2    automatic   sedan         red    True  2019-02-07           79   \n",
      "3    automatic  pickup     Unknown    True  2019-03-22            9   \n",
      "4    automatic   sedan       black    True  2019-04-02           28   \n",
      "\n",
      "  day_of_ad_placement month_of_ad_placement  year_of_ad_placement  \\\n",
      "0            Saturday                  June                  2018   \n",
      "1              Friday               October                  2018   \n",
      "2            Thursday              February                  2019   \n",
      "3              Friday                 March                  2019   \n",
      "4             Tuesday                 April                  2019   \n",
      "\n",
      "   age_of_vehicle  miles_per_year  \n",
      "0               7    20714.285714  \n",
      "1               7    12672.142857  \n",
      "2               6    18333.333333  \n",
      "3              16    10087.312500  \n",
      "4               2    40451.500000  \n"
     ]
    }
   ],
   "source": [
    "print(data.head())"
   ]
  },
  {
   "cell_type": "markdown",
   "metadata": {},
   "source": [
    "### Conclusion"
   ]
  },
  {
   "cell_type": "markdown",
   "metadata": {},
   "source": [
    "I added some new parameters to our processed data; 'day_of_ad_placement', 'month_of_ad_placement', 'year_of_ad_placement', 'age_of_vehicle', 'miles_per_year'.\n",
    "String values in 'condition' I replaced with a corresponding numerical values."
   ]
  },
  {
   "cell_type": "markdown",
   "metadata": {},
   "source": [
    "### Step 4. Carry out exploratory data analysis"
   ]
  },
  {
   "cell_type": "code",
   "execution_count": 668,
   "metadata": {
    "scrolled": false
   },
   "outputs": [
    {
     "data": {
      "text/plain": [
       "count     51522.000000\n",
       "mean      12132.317554\n",
       "std       10041.060628\n",
       "min           1.000000\n",
       "25%        5000.000000\n",
       "50%        9000.000000\n",
       "75%       16838.000000\n",
       "max      375000.000000\n",
       "Name: price, dtype: float64"
      ]
     },
     "execution_count": 668,
     "metadata": {},
     "output_type": "execute_result"
    }
   ],
   "source": [
    "data['price'].describe()"
   ]
  },
  {
   "cell_type": "markdown",
   "metadata": {},
   "source": [
    "I will use describe() method on 'price' column to get numerical description of data and afterwards, to understand better histogram of 'price' values."
   ]
  },
  {
   "cell_type": "code",
   "execution_count": 669,
   "metadata": {},
   "outputs": [],
   "source": [
    "import numpy as np\n",
    "import matplotlib.pyplot as plt"
   ]
  },
  {
   "cell_type": "code",
   "execution_count": 670,
   "metadata": {},
   "outputs": [
    {
     "data": {
      "image/png": "[encoded data removed]",
      "text/plain": [
       "<Figure size 432x288 with 1 Axes>"
      ]
     },
     "metadata": {
      "needs_background": "light"
     },
     "output_type": "display_data"
    }
   ],
   "source": [
    "plt.title('Price of a vehicle')\n",
    "data['price'].hist(bins=40)\n",
    "plt.xlabel('price')\n",
    "plt.ylabel('frequency')\n",
    "plt.show()"
   ]
  },
  {
   "cell_type": "markdown",
   "metadata": {},
   "source": [
    "On this chart we see there are the most values around 'price' 10000, to be precise, around Q2, around the median of values. We can see Q2 is 9000 from describe() method above. Number of maximum price is so low that we can't even read from the chart, it' around zero, so I would say maximum value 375000 in 'price' is defintely outlier. As well, there is unusually large number around zero 'price' so we should look into that as well."
   ]
  },
  {
   "cell_type": "code",
   "execution_count": 671,
   "metadata": {},
   "outputs": [
    {
     "data": {
      "text/plain": [
       "count    51522.000000\n",
       "mean         8.550173\n",
       "std          6.014509\n",
       "min          1.000000\n",
       "25%          4.000000\n",
       "50%          8.000000\n",
       "75%         12.000000\n",
       "max         82.000000\n",
       "Name: age_of_vehicle, dtype: float64"
      ]
     },
     "execution_count": 671,
     "metadata": {},
     "output_type": "execute_result"
    }
   ],
   "source": [
    "data['age_of_vehicle'].describe()"
   ]
  },
  {
   "cell_type": "markdown",
   "metadata": {},
   "source": [
    "Again, describe() method gives us important descriptive values."
   ]
  },
  {
   "cell_type": "code",
   "execution_count": 672,
   "metadata": {
    "scrolled": true
   },
   "outputs": [
    {
     "data": {
      "image/png": "[encoded data removed]",
      "text/plain": [
       "<Figure size 432x288 with 1 Axes>"
      ]
     },
     "metadata": {
      "needs_background": "light"
     },
     "output_type": "display_data"
    }
   ],
   "source": [
    "plt.title('Age of a vehicle')\n",
    "data['age_of_vehicle'].hist(bins=40)\n",
    "plt.xlabel('age')\n",
    "plt.ylabel('frequency')\n",
    "plt.show()"
   ]
  },
  {
   "cell_type": "markdown",
   "metadata": {},
   "source": [
    "We could see there is small number (close to zero) of vehicles age 110 years, unusually a lot vehicles aged 1, most of vehicles are around age 7, but the data show standard deviation is 6 years. So, we have a lot of data in range of median-std and median+std (1 and 13 years old cars.) 110 is definitely an outlier."
   ]
  },
  {
   "cell_type": "code",
   "execution_count": 673,
   "metadata": {},
   "outputs": [
    {
     "data": {
      "text/plain": [
       "count     51522.000000\n",
       "mean     115616.485336\n",
       "std       61746.666830\n",
       "min           1.000000\n",
       "25%       74000.000000\n",
       "50%      114764.500000\n",
       "75%      153000.000000\n",
       "max      990000.000000\n",
       "Name: odometer, dtype: float64"
      ]
     },
     "execution_count": 673,
     "metadata": {},
     "output_type": "execute_result"
    }
   ],
   "source": [
    "data['odometer'].describe()"
   ]
  },
  {
   "cell_type": "markdown",
   "metadata": {},
   "source": [
    "Again, describe() method gives us important descriptive values. we have Q2 (the median value) at 115024 miles with std of 60544. We expect most of the data in the range=(54480,175568) miles."
   ]
  },
  {
   "cell_type": "code",
   "execution_count": 674,
   "metadata": {
    "scrolled": false
   },
   "outputs": [
    {
     "data": {
      "image/png": "[encoded data removed]",
      "text/plain": [
       "<Figure size 432x288 with 1 Axes>"
      ]
     },
     "metadata": {
      "needs_background": "light"
     },
     "output_type": "display_data"
    }
   ],
   "source": [
    "plt.title('Mileage of a vehicle')\n",
    "data['odometer'].hist(bins=40,range=(0,500000))\n",
    "plt.xlabel('mileage')\n",
    "plt.ylabel('frequency')\n",
    "plt.show()"
   ]
  },
  {
   "cell_type": "markdown",
   "metadata": {},
   "source": [
    "We can see that the number of vehicles with 'odometer' over 200000 is getting smaller. There are a lot of vehicles (around 1500) with 'odometer' close to zero."
   ]
  },
  {
   "cell_type": "code",
   "execution_count": 675,
   "metadata": {},
   "outputs": [
    {
     "data": {
      "text/plain": [
       "count    51522.000000\n",
       "mean         6.120958\n",
       "std          1.657443\n",
       "min          3.000000\n",
       "25%          4.000000\n",
       "50%          6.000000\n",
       "75%          8.000000\n",
       "max         12.000000\n",
       "Name: cylinders, dtype: float64"
      ]
     },
     "execution_count": 675,
     "metadata": {},
     "output_type": "execute_result"
    }
   ],
   "source": [
    "data['cylinders'].describe()"
   ]
  },
  {
   "cell_type": "markdown",
   "metadata": {},
   "source": [
    "describe() method showed again typical descriptive values. Q2 (the median value) is 6. std is 1.6, so we expect most of the data in range of 4 and 8. max number of cylinders is 12. Luxurious cars like Ferraris, Lamborghinis, BMWs, Jaguars, and Mercedes-Benzes have 12 cylinder engine, so the number 12 is realistic. Lets's check our frequencies with histogram."
   ]
  },
  {
   "cell_type": "code",
   "execution_count": 676,
   "metadata": {},
   "outputs": [
    {
     "name": "stdout",
     "output_type": "stream",
     "text": [
      "8     17709\n",
      "6     17435\n",
      "4     15499\n",
      "10      549\n",
      "5       294\n",
      "3        34\n",
      "12        2\n",
      "Name: cylinders, dtype: int64\n"
     ]
    }
   ],
   "source": [
    "print(data['cylinders'].value_counts())"
   ]
  },
  {
   "cell_type": "markdown",
   "metadata": {},
   "source": [
    "There are vehicles with 3, 4, 5, 6, 8, 10 or 12 cylinders in our data."
   ]
  },
  {
   "cell_type": "code",
   "execution_count": 677,
   "metadata": {},
   "outputs": [
    {
     "data": {
      "image/png": "[encoded data removed]",
      "text/plain": [
       "<Figure size 432x288 with 1 Axes>"
      ]
     },
     "metadata": {
      "needs_background": "light"
     },
     "output_type": "display_data"
    }
   ],
   "source": [
    "plt.title('Number of cylinders in a vehicle')\n",
    "data['cylinders'].hist(bins=40)\n",
    "plt.xlabel('cylinders')\n",
    "plt.ylabel('frequency')\n",
    "plt.show()"
   ]
  },
  {
   "cell_type": "markdown",
   "metadata": {},
   "source": [
    "We can see the most vehicle engines have 4 to 8 cylinders. Vehicles with 12 cylinders are close to zero. 3,5 and 10 cylinder vehicles are also very close to zero."
   ]
  },
  {
   "cell_type": "code",
   "execution_count": 678,
   "metadata": {},
   "outputs": [
    {
     "data": {
      "text/plain": [
       "count    51522.000000\n",
       "mean         2.637553\n",
       "std          0.712455\n",
       "min          0.000000\n",
       "25%          2.000000\n",
       "50%          3.000000\n",
       "75%          3.000000\n",
       "max          5.000000\n",
       "Name: condition, dtype: float64"
      ]
     },
     "execution_count": 678,
     "metadata": {},
     "output_type": "execute_result"
    }
   ],
   "source": [
    "data['condition'].describe()"
   ]
  },
  {
   "cell_type": "markdown",
   "metadata": {},
   "source": [
    "Vehicles are mostly in condition described with  number 3, which implies they are in excellent but not new condition."
   ]
  },
  {
   "cell_type": "code",
   "execution_count": 679,
   "metadata": {},
   "outputs": [
    {
     "data": {
      "image/png": "[encoded data removed]",
      "text/plain": [
       "<Figure size 432x288 with 1 Axes>"
      ]
     },
     "metadata": {
      "needs_background": "light"
     },
     "output_type": "display_data"
    }
   ],
   "source": [
    "plt.title('Condition of a vehicle')\n",
    "data['condition'].hist(bins=40)\n",
    "plt.xlabel('condition')\n",
    "plt.ylabel('frequency')\n",
    "plt.show()"
   ]
  },
  {
   "cell_type": "markdown",
   "metadata": {},
   "source": [
    "Here we have quite normal distribution of data, where number of new and salvage vehicles is very low. Before we got to see distribution of 'odometer' and we know that we have around 1500 cars with 'odometer' close to zero. Still, distibution of 'condition' shows that 'like new' and 'new' vehicles together don't make not even close to 1500 vehicles that have almost zero 'odometer'. So, I would say we have some 'inaccurate' data concering 'odometer'."
   ]
  },
  {
   "cell_type": "code",
   "execution_count": 680,
   "metadata": {},
   "outputs": [
    {
     "data": {
      "text/html": [
       "<div>\n",
       "<style scoped>\n",
       "    .dataframe tbody tr th:only-of-type {\n",
       "        vertical-align: middle;\n",
       "    }\n",
       "\n",
       "    .dataframe tbody tr th {\n",
       "        vertical-align: top;\n",
       "    }\n",
       "\n",
       "    .dataframe thead th {\n",
       "        text-align: right;\n",
       "    }\n",
       "</style>\n",
       "<table border=\"1\" class=\"dataframe\">\n",
       "  <thead>\n",
       "    <tr style=\"text-align: right;\">\n",
       "      <th></th>\n",
       "      <th>price</th>\n",
       "      <th>model_year</th>\n",
       "      <th>condition</th>\n",
       "      <th>cylinders</th>\n",
       "      <th>odometer</th>\n",
       "      <th>days_listed</th>\n",
       "      <th>year_of_ad_placement</th>\n",
       "      <th>age_of_vehicle</th>\n",
       "      <th>miles_per_year</th>\n",
       "    </tr>\n",
       "  </thead>\n",
       "  <tbody>\n",
       "    <tr>\n",
       "      <td>count</td>\n",
       "      <td>51522.000000</td>\n",
       "      <td>51522.000000</td>\n",
       "      <td>51522.000000</td>\n",
       "      <td>51522.000000</td>\n",
       "      <td>51522.000000</td>\n",
       "      <td>51522.000000</td>\n",
       "      <td>51522.000000</td>\n",
       "      <td>51522.000000</td>\n",
       "      <td>51522.000000</td>\n",
       "    </tr>\n",
       "    <tr>\n",
       "      <td>mean</td>\n",
       "      <td>12132.317554</td>\n",
       "      <td>2009.799076</td>\n",
       "      <td>2.637553</td>\n",
       "      <td>6.120958</td>\n",
       "      <td>115616.485336</td>\n",
       "      <td>39.554773</td>\n",
       "      <td>2018.307480</td>\n",
       "      <td>8.550173</td>\n",
       "      <td>17783.730622</td>\n",
       "    </tr>\n",
       "    <tr>\n",
       "      <td>std</td>\n",
       "      <td>10041.060628</td>\n",
       "      <td>6.056042</td>\n",
       "      <td>0.712455</td>\n",
       "      <td>1.657443</td>\n",
       "      <td>61746.666830</td>\n",
       "      <td>28.204877</td>\n",
       "      <td>0.461455</td>\n",
       "      <td>6.014509</td>\n",
       "      <td>12407.925307</td>\n",
       "    </tr>\n",
       "    <tr>\n",
       "      <td>min</td>\n",
       "      <td>1.000000</td>\n",
       "      <td>1936.000000</td>\n",
       "      <td>0.000000</td>\n",
       "      <td>3.000000</td>\n",
       "      <td>1.000000</td>\n",
       "      <td>0.000000</td>\n",
       "      <td>2018.000000</td>\n",
       "      <td>1.000000</td>\n",
       "      <td>0.034483</td>\n",
       "    </tr>\n",
       "    <tr>\n",
       "      <td>25%</td>\n",
       "      <td>5000.000000</td>\n",
       "      <td>2007.000000</td>\n",
       "      <td>2.000000</td>\n",
       "      <td>4.000000</td>\n",
       "      <td>74000.000000</td>\n",
       "      <td>19.000000</td>\n",
       "      <td>2018.000000</td>\n",
       "      <td>4.000000</td>\n",
       "      <td>10936.285714</td>\n",
       "    </tr>\n",
       "    <tr>\n",
       "      <td>50%</td>\n",
       "      <td>9000.000000</td>\n",
       "      <td>2011.000000</td>\n",
       "      <td>3.000000</td>\n",
       "      <td>6.000000</td>\n",
       "      <td>114764.500000</td>\n",
       "      <td>33.000000</td>\n",
       "      <td>2018.000000</td>\n",
       "      <td>8.000000</td>\n",
       "      <td>15272.727273</td>\n",
       "    </tr>\n",
       "    <tr>\n",
       "      <td>75%</td>\n",
       "      <td>16838.000000</td>\n",
       "      <td>2014.000000</td>\n",
       "      <td>3.000000</td>\n",
       "      <td>8.000000</td>\n",
       "      <td>153000.000000</td>\n",
       "      <td>53.000000</td>\n",
       "      <td>2019.000000</td>\n",
       "      <td>12.000000</td>\n",
       "      <td>21000.000000</td>\n",
       "    </tr>\n",
       "    <tr>\n",
       "      <td>max</td>\n",
       "      <td>375000.000000</td>\n",
       "      <td>2019.000000</td>\n",
       "      <td>5.000000</td>\n",
       "      <td>12.000000</td>\n",
       "      <td>990000.000000</td>\n",
       "      <td>271.000000</td>\n",
       "      <td>2019.000000</td>\n",
       "      <td>82.000000</td>\n",
       "      <td>373200.000000</td>\n",
       "    </tr>\n",
       "  </tbody>\n",
       "</table>\n",
       "</div>"
      ],
      "text/plain": [
       "               price    model_year     condition     cylinders       odometer  \\\n",
       "count   51522.000000  51522.000000  51522.000000  51522.000000   51522.000000   \n",
       "mean    12132.317554   2009.799076      2.637553      6.120958  115616.485336   \n",
       "std     10041.060628      6.056042      0.712455      1.657443   61746.666830   \n",
       "min         1.000000   1936.000000      0.000000      3.000000       1.000000   \n",
       "25%      5000.000000   2007.000000      2.000000      4.000000   74000.000000   \n",
       "50%      9000.000000   2011.000000      3.000000      6.000000  114764.500000   \n",
       "75%     16838.000000   2014.000000      3.000000      8.000000  153000.000000   \n",
       "max    375000.000000   2019.000000      5.000000     12.000000  990000.000000   \n",
       "\n",
       "        days_listed  year_of_ad_placement  age_of_vehicle  miles_per_year  \n",
       "count  51522.000000          51522.000000    51522.000000    51522.000000  \n",
       "mean      39.554773           2018.307480        8.550173    17783.730622  \n",
       "std       28.204877              0.461455        6.014509    12407.925307  \n",
       "min        0.000000           2018.000000        1.000000        0.034483  \n",
       "25%       19.000000           2018.000000        4.000000    10936.285714  \n",
       "50%       33.000000           2018.000000        8.000000    15272.727273  \n",
       "75%       53.000000           2019.000000       12.000000    21000.000000  \n",
       "max      271.000000           2019.000000       82.000000   373200.000000  "
      ]
     },
     "execution_count": 680,
     "metadata": {},
     "output_type": "execute_result"
    }
   ],
   "source": [
    "data.describe()"
   ]
  },
  {
   "cell_type": "markdown",
   "metadata": {},
   "source": [
    "I am looking up on the numerical description of data, including the new columns we ad to the original data. I want to find upper limmits of outliers and store them in a separate DataFrame. Now is important to decide in which 'columns' to look for outliers. The standard deviation often helps us understand distributions and figure out how uniform datasets are. A dataset with all of its values close to the mean has a low standard deviation . If the standard deviation is high, the dataset might have anomalies and outliers. "
   ]
  },
  {
   "cell_type": "code",
   "execution_count": 681,
   "metadata": {},
   "outputs": [],
   "source": [
    "def upper_range(datacolumn):\n",
    "    sorted(datacolumn)\n",
    "    Q1,Q3 = np.percentile(datacolumn,[25,75])\n",
    "    IQR = Q3 - Q1\n",
    "    upper_value = Q3 + (1.5 * IQR)\n",
    "    return upper_value\n",
    "\n",
    "def lower_range(datacolumn):\n",
    "    sorted(datacolumn)\n",
    "    Q1,Q3 = np.percentile(datacolumn,[25,75])\n",
    "    IQR = Q3 - Q1\n",
    "    lower_value = Q1 - (1.5 * IQR)\n",
    "    return lower_value\n"
   ]
  },
  {
   "cell_type": "markdown",
   "metadata": {},
   "source": [
    "I created a function upper_range that takes a column from data and returns upper range of this column.\n",
    "lower_range function that takes a column from data and returns lower range of the column."
   ]
  },
  {
   "cell_type": "code",
   "execution_count": 682,
   "metadata": {
    "scrolled": false
   },
   "outputs": [
    {
     "name": "stdout",
     "output_type": "stream",
     "text": [
      "34595.0\n",
      "False\n",
      "2024.5\n",
      "False\n",
      "False\n",
      "4.5\n",
      "False\n",
      "14.0\n",
      "False\n",
      "False\n",
      "271500.0\n",
      "False\n",
      "False\n",
      "False\n",
      "False\n",
      "1.0\n",
      "False\n",
      "False\n",
      "104.0\n",
      "False\n",
      "False\n",
      "False\n",
      "2020.5\n",
      "False\n",
      "24.0\n",
      "False\n",
      "36095.57142857143\n",
      "False\n",
      "[]\n"
     ]
    }
   ],
   "source": [
    "upper_range_list = []\n",
    "for column in data:\n",
    "    try:\n",
    "            print(upper_range(data[column]))\n",
    "            upper_range.append(upper_range(data[column]))\n",
    "    except:\n",
    "        print('False')\n",
    "print(upper_range_list)"
   ]
  },
  {
   "cell_type": "markdown",
   "metadata": {},
   "source": [
    "I used try-except method. When loop found quantitative variables, it applied upper_range function on the values and stored them into upper_range list. For categorical values, it stores False."
   ]
  },
  {
   "cell_type": "code",
   "execution_count": 683,
   "metadata": {},
   "outputs": [
    {
     "data": {
      "text/plain": [
       "Index(['price', 'model_year', 'condition', 'cylinders', 'odometer', 'is_4wd',\n",
       "       'days_listed', 'year_of_ad_placement', 'age_of_vehicle',\n",
       "       'miles_per_year'],\n",
       "      dtype='object')"
      ]
     },
     "execution_count": 683,
     "metadata": {},
     "output_type": "execute_result"
    }
   ],
   "source": [
    "data.select_dtypes(exclude=['object','datetime64[ns]']).columns\n"
   ]
  },
  {
   "cell_type": "markdown",
   "metadata": {},
   "source": [
    "I excluded 'object' and 'datetime64[ns]' values so I could retrieve names for outliers DataFrame indices (down.)"
   ]
  },
  {
   "cell_type": "code",
   "execution_count": 684,
   "metadata": {
    "scrolled": true
   },
   "outputs": [
    {
     "name": "stdout",
     "output_type": "stream",
     "text": [
      "                       upper_range_list\n",
      "price                      34597.500000\n",
      "model_year                  2024.500000\n",
      "condition                      4.500000\n",
      "cylinders                     14.000000\n",
      "odometer                  254350.000000\n",
      "days_listed                  104.000000\n",
      "day_of_ad_placement           11.000000\n",
      "month_of_ad_placement         20.500000\n",
      "year_of_ad_placement        2020.500000\n",
      "age_of_vehicle                24.000000\n",
      "miles_per_year             40435.714286\n"
     ]
    }
   ],
   "source": [
    "outliers = pd.DataFrame({\n",
    "    'upper_range_list': [34597.5, 2024.5, 4.5, 14.0, 254350.0, 104.0, 11.0, 20.5, 2020.5, 24.0, 40435.71428571429]\n",
    "})\n",
    "outliers.index = ['price', 'model_year', 'condition', 'cylinders', 'odometer',\n",
    "       'days_listed', 'day_of_ad_placement', 'month_of_ad_placement',\n",
    "       'year_of_ad_placement', 'age_of_vehicle', 'miles_per_year']\n",
    "print(outliers)"
   ]
  },
  {
   "cell_type": "markdown",
   "metadata": {},
   "source": [
    "I created an outlier data with upper_range values for every numerical column in our original data."
   ]
  },
  {
   "cell_type": "code",
   "execution_count": 685,
   "metadata": {
    "scrolled": true
   },
   "outputs": [
    {
     "data": {
      "text/html": [
       "<div>\n",
       "<style scoped>\n",
       "    .dataframe tbody tr th:only-of-type {\n",
       "        vertical-align: middle;\n",
       "    }\n",
       "\n",
       "    .dataframe tbody tr th {\n",
       "        vertical-align: top;\n",
       "    }\n",
       "\n",
       "    .dataframe thead th {\n",
       "        text-align: right;\n",
       "    }\n",
       "</style>\n",
       "<table border=\"1\" class=\"dataframe\">\n",
       "  <thead>\n",
       "    <tr style=\"text-align: right;\">\n",
       "      <th></th>\n",
       "      <th>price</th>\n",
       "      <th>model_year</th>\n",
       "      <th>condition</th>\n",
       "      <th>cylinders</th>\n",
       "      <th>odometer</th>\n",
       "      <th>days_listed</th>\n",
       "      <th>year_of_ad_placement</th>\n",
       "      <th>age_of_vehicle</th>\n",
       "      <th>miles_per_year</th>\n",
       "    </tr>\n",
       "  </thead>\n",
       "  <tbody>\n",
       "    <tr>\n",
       "      <td>count</td>\n",
       "      <td>51522.000000</td>\n",
       "      <td>51522.000000</td>\n",
       "      <td>51522.000000</td>\n",
       "      <td>51522.000000</td>\n",
       "      <td>51522.000000</td>\n",
       "      <td>51522.000000</td>\n",
       "      <td>51522.000000</td>\n",
       "      <td>51522.000000</td>\n",
       "      <td>51522.000000</td>\n",
       "    </tr>\n",
       "    <tr>\n",
       "      <td>mean</td>\n",
       "      <td>12132.317554</td>\n",
       "      <td>2009.799076</td>\n",
       "      <td>2.637553</td>\n",
       "      <td>6.120958</td>\n",
       "      <td>115616.485336</td>\n",
       "      <td>39.554773</td>\n",
       "      <td>2018.307480</td>\n",
       "      <td>8.550173</td>\n",
       "      <td>17783.730622</td>\n",
       "    </tr>\n",
       "    <tr>\n",
       "      <td>std</td>\n",
       "      <td>10041.060628</td>\n",
       "      <td>6.056042</td>\n",
       "      <td>0.712455</td>\n",
       "      <td>1.657443</td>\n",
       "      <td>61746.666830</td>\n",
       "      <td>28.204877</td>\n",
       "      <td>0.461455</td>\n",
       "      <td>6.014509</td>\n",
       "      <td>12407.925307</td>\n",
       "    </tr>\n",
       "    <tr>\n",
       "      <td>min</td>\n",
       "      <td>1.000000</td>\n",
       "      <td>1936.000000</td>\n",
       "      <td>0.000000</td>\n",
       "      <td>3.000000</td>\n",
       "      <td>1.000000</td>\n",
       "      <td>0.000000</td>\n",
       "      <td>2018.000000</td>\n",
       "      <td>1.000000</td>\n",
       "      <td>0.034483</td>\n",
       "    </tr>\n",
       "    <tr>\n",
       "      <td>25%</td>\n",
       "      <td>5000.000000</td>\n",
       "      <td>2007.000000</td>\n",
       "      <td>2.000000</td>\n",
       "      <td>4.000000</td>\n",
       "      <td>74000.000000</td>\n",
       "      <td>19.000000</td>\n",
       "      <td>2018.000000</td>\n",
       "      <td>4.000000</td>\n",
       "      <td>10936.285714</td>\n",
       "    </tr>\n",
       "    <tr>\n",
       "      <td>50%</td>\n",
       "      <td>9000.000000</td>\n",
       "      <td>2011.000000</td>\n",
       "      <td>3.000000</td>\n",
       "      <td>6.000000</td>\n",
       "      <td>114764.500000</td>\n",
       "      <td>33.000000</td>\n",
       "      <td>2018.000000</td>\n",
       "      <td>8.000000</td>\n",
       "      <td>15272.727273</td>\n",
       "    </tr>\n",
       "    <tr>\n",
       "      <td>75%</td>\n",
       "      <td>16838.000000</td>\n",
       "      <td>2014.000000</td>\n",
       "      <td>3.000000</td>\n",
       "      <td>8.000000</td>\n",
       "      <td>153000.000000</td>\n",
       "      <td>53.000000</td>\n",
       "      <td>2019.000000</td>\n",
       "      <td>12.000000</td>\n",
       "      <td>21000.000000</td>\n",
       "    </tr>\n",
       "    <tr>\n",
       "      <td>max</td>\n",
       "      <td>375000.000000</td>\n",
       "      <td>2019.000000</td>\n",
       "      <td>5.000000</td>\n",
       "      <td>12.000000</td>\n",
       "      <td>990000.000000</td>\n",
       "      <td>271.000000</td>\n",
       "      <td>2019.000000</td>\n",
       "      <td>82.000000</td>\n",
       "      <td>373200.000000</td>\n",
       "    </tr>\n",
       "  </tbody>\n",
       "</table>\n",
       "</div>"
      ],
      "text/plain": [
       "               price    model_year     condition     cylinders       odometer  \\\n",
       "count   51522.000000  51522.000000  51522.000000  51522.000000   51522.000000   \n",
       "mean    12132.317554   2009.799076      2.637553      6.120958  115616.485336   \n",
       "std     10041.060628      6.056042      0.712455      1.657443   61746.666830   \n",
       "min         1.000000   1936.000000      0.000000      3.000000       1.000000   \n",
       "25%      5000.000000   2007.000000      2.000000      4.000000   74000.000000   \n",
       "50%      9000.000000   2011.000000      3.000000      6.000000  114764.500000   \n",
       "75%     16838.000000   2014.000000      3.000000      8.000000  153000.000000   \n",
       "max    375000.000000   2019.000000      5.000000     12.000000  990000.000000   \n",
       "\n",
       "        days_listed  year_of_ad_placement  age_of_vehicle  miles_per_year  \n",
       "count  51522.000000          51522.000000    51522.000000    51522.000000  \n",
       "mean      39.554773           2018.307480        8.550173    17783.730622  \n",
       "std       28.204877              0.461455        6.014509    12407.925307  \n",
       "min        0.000000           2018.000000        1.000000        0.034483  \n",
       "25%       19.000000           2018.000000        4.000000    10936.285714  \n",
       "50%       33.000000           2018.000000        8.000000    15272.727273  \n",
       "75%       53.000000           2019.000000       12.000000    21000.000000  \n",
       "max      271.000000           2019.000000       82.000000   373200.000000  "
      ]
     },
     "execution_count": 685,
     "metadata": {},
     "output_type": "execute_result"
    }
   ],
   "source": [
    "data.describe()"
   ]
  },
  {
   "cell_type": "markdown",
   "metadata": {},
   "source": [
    "Comparing upper range with max values I can decide which data should be filtered. Upper_range for 'price is smaler than maximum value in 'price' so we should filter 'price' values. We should filter as well for 'odometer', 'days_listed', 'age_of_vehicle' and 'miles_per_year'."
   ]
  },
  {
   "cell_type": "code",
   "execution_count": 686,
   "metadata": {},
   "outputs": [],
   "source": [
    "filtered_data = data.query('price < @upper_range(price) and odometer <  @upper_range(odometer) and days_listed  <  @upper_range(days_listed) and age_of_vehicle <  @upper_range(age_of_vehicle) and miles_per_year <  @upper_range(miles_per_year)')"
   ]
  },
  {
   "cell_type": "markdown",
   "metadata": {},
   "source": [
    "filtered_data is data without the upper outliers, withing the upper range."
   ]
  },
  {
   "cell_type": "code",
   "execution_count": 687,
   "metadata": {},
   "outputs": [
    {
     "data": {
      "text/html": [
       "<div>\n",
       "<style scoped>\n",
       "    .dataframe tbody tr th:only-of-type {\n",
       "        vertical-align: middle;\n",
       "    }\n",
       "\n",
       "    .dataframe tbody tr th {\n",
       "        vertical-align: top;\n",
       "    }\n",
       "\n",
       "    .dataframe thead th {\n",
       "        text-align: right;\n",
       "    }\n",
       "</style>\n",
       "<table border=\"1\" class=\"dataframe\">\n",
       "  <thead>\n",
       "    <tr style=\"text-align: right;\">\n",
       "      <th></th>\n",
       "      <th>price</th>\n",
       "      <th>model_year</th>\n",
       "      <th>condition</th>\n",
       "      <th>cylinders</th>\n",
       "      <th>odometer</th>\n",
       "      <th>days_listed</th>\n",
       "      <th>year_of_ad_placement</th>\n",
       "      <th>age_of_vehicle</th>\n",
       "      <th>miles_per_year</th>\n",
       "    </tr>\n",
       "  </thead>\n",
       "  <tbody>\n",
       "    <tr>\n",
       "      <td>count</td>\n",
       "      <td>44061.000000</td>\n",
       "      <td>44061.000000</td>\n",
       "      <td>44061.000000</td>\n",
       "      <td>44061.000000</td>\n",
       "      <td>44061.000000</td>\n",
       "      <td>44061.000000</td>\n",
       "      <td>44061.000000</td>\n",
       "      <td>44061.000000</td>\n",
       "      <td>44061.000000</td>\n",
       "    </tr>\n",
       "    <tr>\n",
       "      <td>mean</td>\n",
       "      <td>10886.408298</td>\n",
       "      <td>2009.721432</td>\n",
       "      <td>2.624543</td>\n",
       "      <td>6.056717</td>\n",
       "      <td>116084.284356</td>\n",
       "      <td>36.527473</td>\n",
       "      <td>2018.316153</td>\n",
       "      <td>8.624157</td>\n",
       "      <td>15620.395959</td>\n",
       "    </tr>\n",
       "    <tr>\n",
       "      <td>std</td>\n",
       "      <td>7673.997275</td>\n",
       "      <td>4.887715</td>\n",
       "      <td>0.700136</td>\n",
       "      <td>1.646736</td>\n",
       "      <td>55476.368395</td>\n",
       "      <td>23.013537</td>\n",
       "      <td>0.464979</td>\n",
       "      <td>4.838626</td>\n",
       "      <td>6951.845770</td>\n",
       "    </tr>\n",
       "    <tr>\n",
       "      <td>min</td>\n",
       "      <td>1.000000</td>\n",
       "      <td>1995.000000</td>\n",
       "      <td>0.000000</td>\n",
       "      <td>3.000000</td>\n",
       "      <td>1.000000</td>\n",
       "      <td>0.000000</td>\n",
       "      <td>2018.000000</td>\n",
       "      <td>1.000000</td>\n",
       "      <td>0.052632</td>\n",
       "    </tr>\n",
       "    <tr>\n",
       "      <td>25%</td>\n",
       "      <td>4995.000000</td>\n",
       "      <td>2007.000000</td>\n",
       "      <td>2.000000</td>\n",
       "      <td>4.000000</td>\n",
       "      <td>78285.500000</td>\n",
       "      <td>18.000000</td>\n",
       "      <td>2018.000000</td>\n",
       "      <td>5.000000</td>\n",
       "      <td>10866.666667</td>\n",
       "    </tr>\n",
       "    <tr>\n",
       "      <td>50%</td>\n",
       "      <td>8750.000000</td>\n",
       "      <td>2010.000000</td>\n",
       "      <td>3.000000</td>\n",
       "      <td>6.000000</td>\n",
       "      <td>118000.000000</td>\n",
       "      <td>32.000000</td>\n",
       "      <td>2018.000000</td>\n",
       "      <td>8.000000</td>\n",
       "      <td>14625.000000</td>\n",
       "    </tr>\n",
       "    <tr>\n",
       "      <td>75%</td>\n",
       "      <td>15000.000000</td>\n",
       "      <td>2013.000000</td>\n",
       "      <td>3.000000</td>\n",
       "      <td>8.000000</td>\n",
       "      <td>153108.000000</td>\n",
       "      <td>51.000000</td>\n",
       "      <td>2019.000000</td>\n",
       "      <td>12.000000</td>\n",
       "      <td>19750.000000</td>\n",
       "    </tr>\n",
       "    <tr>\n",
       "      <td>max</td>\n",
       "      <td>34555.000000</td>\n",
       "      <td>2019.000000</td>\n",
       "      <td>5.000000</td>\n",
       "      <td>12.000000</td>\n",
       "      <td>271093.000000</td>\n",
       "      <td>103.000000</td>\n",
       "      <td>2019.000000</td>\n",
       "      <td>23.000000</td>\n",
       "      <td>36062.500000</td>\n",
       "    </tr>\n",
       "  </tbody>\n",
       "</table>\n",
       "</div>"
      ],
      "text/plain": [
       "              price    model_year     condition     cylinders       odometer  \\\n",
       "count  44061.000000  44061.000000  44061.000000  44061.000000   44061.000000   \n",
       "mean   10886.408298   2009.721432      2.624543      6.056717  116084.284356   \n",
       "std     7673.997275      4.887715      0.700136      1.646736   55476.368395   \n",
       "min        1.000000   1995.000000      0.000000      3.000000       1.000000   \n",
       "25%     4995.000000   2007.000000      2.000000      4.000000   78285.500000   \n",
       "50%     8750.000000   2010.000000      3.000000      6.000000  118000.000000   \n",
       "75%    15000.000000   2013.000000      3.000000      8.000000  153108.000000   \n",
       "max    34555.000000   2019.000000      5.000000     12.000000  271093.000000   \n",
       "\n",
       "        days_listed  year_of_ad_placement  age_of_vehicle  miles_per_year  \n",
       "count  44061.000000          44061.000000    44061.000000    44061.000000  \n",
       "mean      36.527473           2018.316153        8.624157    15620.395959  \n",
       "std       23.013537              0.464979        4.838626     6951.845770  \n",
       "min        0.000000           2018.000000        1.000000        0.052632  \n",
       "25%       18.000000           2018.000000        5.000000    10866.666667  \n",
       "50%       32.000000           2018.000000        8.000000    14625.000000  \n",
       "75%       51.000000           2019.000000       12.000000    19750.000000  \n",
       "max      103.000000           2019.000000       23.000000    36062.500000  "
      ]
     },
     "execution_count": 687,
     "metadata": {},
     "output_type": "execute_result"
    }
   ],
   "source": [
    "filtered_data.describe()"
   ]
  },
  {
   "cell_type": "code",
   "execution_count": 688,
   "metadata": {},
   "outputs": [
    {
     "data": {
      "image/png": "[encoded data removed]",
      "text/plain": [
       "<Figure size 432x288 with 1 Axes>"
      ]
     },
     "metadata": {
      "needs_background": "light"
     },
     "output_type": "display_data"
    },
    {
     "data": {
      "image/png": "[encoded data removed]",
      "text/plain": [
       "<Figure size 432x288 with 1 Axes>"
      ]
     },
     "metadata": {
      "needs_background": "light"
     },
     "output_type": "display_data"
    }
   ],
   "source": [
    "plt.title('Price of a vehicle in raw data')\n",
    "data['price'].hist(bins = 40, color = 'teal')\n",
    "plt.xlabel('price')\n",
    "plt.ylabel('frequency')\n",
    "plt.show()\n",
    "\n",
    "plt.title('Price of a vehicle in filtered data')\n",
    "filtered_data['price'].hist(bins = 40, color = 'blue')\n",
    "plt.xlabel('price')\n",
    "plt.ylabel('frequency')\n",
    "plt.show()"
   ]
  },
  {
   "cell_type": "markdown",
   "metadata": {},
   "source": [
    "We can se now the values are much better distributed alonx the 'x' axis, which means we can read frequency for every price there is in the 'price' column. The range of the prices is 10 times smaller. The frequencies are also in 10 times smaller range. In the fist histogram we couldn't do that, we could have read that the most of the prices are close to zero, which is not true. In filtered data we see the most of the prices are higher than 5000. Distibution is more similar to normal one, and I believe it would look even more'normal' if we used lower range for filtering the data."
   ]
  },
  {
   "cell_type": "code",
   "execution_count": 689,
   "metadata": {},
   "outputs": [
    {
     "data": {
      "image/png": "[encoded data removed]",
      "text/plain": [
       "<Figure size 432x288 with 1 Axes>"
      ]
     },
     "metadata": {
      "needs_background": "light"
     },
     "output_type": "display_data"
    },
    {
     "data": {
      "image/png": "[encoded data removed]",
      "text/plain": [
       "<Figure size 432x288 with 1 Axes>"
      ]
     },
     "metadata": {
      "needs_background": "light"
     },
     "output_type": "display_data"
    }
   ],
   "source": [
    "plt.title('Mileage of a vehicle in raw data')\n",
    "data['odometer'].hist(bins = 40, color = 'teal')\n",
    "plt.xlabel('mileage')\n",
    "plt.ylabel('frequency')\n",
    "plt.show()\n",
    "\n",
    "plt.title('Mileage of a vehicle in filtered data')\n",
    "filtered_data['odometer'].hist(bins = 40, color = 'blue')\n",
    "plt.xlabel('mileage')\n",
    "plt.ylabel('frequency')\n",
    "plt.show()"
   ]
  },
  {
   "cell_type": "code",
   "execution_count": 690,
   "metadata": {},
   "outputs": [
    {
     "data": {
      "text/plain": [
       "count     44061.000000\n",
       "mean     116084.284356\n",
       "std       55476.368395\n",
       "min           1.000000\n",
       "25%       78285.500000\n",
       "50%      118000.000000\n",
       "75%      153108.000000\n",
       "max      271093.000000\n",
       "Name: odometer, dtype: float64"
      ]
     },
     "execution_count": 690,
     "metadata": {},
     "output_type": "execute_result"
    }
   ],
   "source": [
    "filtered_data['odometer'].describe()"
   ]
  },
  {
   "cell_type": "markdown",
   "metadata": {},
   "source": [
    "The range of miles in the first graph is from 0 to 1 000 000 and on the other from 0 to around 25 000, so it is 4 times smaller and values are now better distributed. From the first graph we could have read that there are more than 10 000 vehicles with around 100 000 miles. On the second graph we can now rean that there are less than 2000 vehicles with 100 000 miles. The interpretation is quite different. Standard deviation is still quite big for filtered 'odometar'. The reason could be because we were applying just the upper range but not the lower range while filtering."
   ]
  },
  {
   "cell_type": "code",
   "execution_count": 691,
   "metadata": {
    "scrolled": true
   },
   "outputs": [
    {
     "data": {
      "image/png": "[encoded data removed]",
      "text/plain": [
       "<Figure size 432x288 with 1 Axes>"
      ]
     },
     "metadata": {
      "needs_background": "light"
     },
     "output_type": "display_data"
    },
    {
     "data": {
      "image/png": "[encoded data removed]",
      "text/plain": [
       "<Figure size 432x288 with 1 Axes>"
      ]
     },
     "metadata": {
      "needs_background": "light"
     },
     "output_type": "display_data"
    }
   ],
   "source": [
    "plt.title('Number of cylinders in a vehicle - raw data')\n",
    "data['cylinders'].hist(bins = 40, color = 'teal')\n",
    "plt.xlabel('cylinders')\n",
    "plt.ylabel('frequency')\n",
    "plt.show()\n",
    "\n",
    "plt.title('Number of cylinders in a vehicle - filtered data')\n",
    "filtered_data['cylinders'].hist(bins = 40, color = 'blue')\n",
    "plt.xlabel('cylinders')\n",
    "plt.ylabel('frequency')\n",
    "plt.show()"
   ]
  },
  {
   "cell_type": "markdown",
   "metadata": {},
   "source": [
    "The differences in graphs are not so big. We have 43371 entries in filtered data, 8154 entries less then  it the raw data, but the distribution of the values is still the same."
   ]
  },
  {
   "cell_type": "code",
   "execution_count": 692,
   "metadata": {},
   "outputs": [
    {
     "data": {
      "image/png": "[encoded data removed]",
      "text/plain": [
       "<Figure size 432x288 with 1 Axes>"
      ]
     },
     "metadata": {
      "needs_background": "light"
     },
     "output_type": "display_data"
    },
    {
     "data": {
      "image/png": "[encoded data removed]",
      "text/plain": [
       "<Figure size 432x288 with 1 Axes>"
      ]
     },
     "metadata": {
      "needs_background": "light"
     },
     "output_type": "display_data"
    }
   ],
   "source": [
    "plt.title('Condition of a vehicle - raw data')\n",
    "data['condition'].hist(bins = 40, color = 'teal')\n",
    "plt.xlabel('condition')\n",
    "plt.ylabel('frequency')\n",
    "plt.show()\n",
    "\n",
    "plt.title('Condition of a vehicle - filtered data')\n",
    "filtered_data['condition'].hist(bins = 40, color = 'blue')\n",
    "plt.xlabel('condition')\n",
    "plt.ylabel('frequency')\n",
    "plt.show()"
   ]
  },
  {
   "cell_type": "markdown",
   "metadata": {},
   "source": [
    "The differences in graphs are not so big. 'y' axis are more refined in the second graph."
   ]
  },
  {
   "cell_type": "code",
   "execution_count": 693,
   "metadata": {
    "scrolled": true
   },
   "outputs": [
    {
     "name": "stdout",
     "output_type": "stream",
     "text": [
      "36.52747327568598 32.0\n"
     ]
    }
   ],
   "source": [
    "mean_days_listed = filtered_data['days_listed'].mean()\n",
    "median_days_listed = filtered_data['days_listed'].median()\n",
    "print(mean_days_listed,median_days_listed)"
   ]
  },
  {
   "cell_type": "markdown",
   "metadata": {},
   "source": [
    "mean of 'days_listed' is 36.5 days and median 32 days. "
   ]
  },
  {
   "cell_type": "code",
   "execution_count": 694,
   "metadata": {},
   "outputs": [
    {
     "data": {
      "text/plain": [
       "count    44061.000000\n",
       "mean        36.527473\n",
       "std         23.013537\n",
       "min          0.000000\n",
       "25%         18.000000\n",
       "50%         32.000000\n",
       "75%         51.000000\n",
       "max        103.000000\n",
       "Name: days_listed, dtype: float64"
      ]
     },
     "execution_count": 694,
     "metadata": {},
     "output_type": "execute_result"
    }
   ],
   "source": [
    "filtered_data['days_listed'].describe()"
   ]
  },
  {
   "cell_type": "markdown",
   "metadata": {},
   "source": [
    "Standard deviation is almost 23 days even after filtering the data. The most of the ads are listed in between 18 and 51 day.\n",
    "I will cosider ads removed under 18 days to be too short listed. Ads that are listed more than 51 day to be long listed adds. At the end, ads listed more than 80 days I will consider abnormally long listed ads."
   ]
  },
  {
   "cell_type": "code",
   "execution_count": 695,
   "metadata": {},
   "outputs": [
    {
     "data": {
      "image/png": "[encoded data removed]",
      "text/plain": [
       "<Figure size 432x288 with 1 Axes>"
      ]
     },
     "metadata": {
      "needs_background": "light"
     },
     "output_type": "display_data"
    }
   ],
   "source": [
    "plt.title('Days the ad has been listed')\n",
    "filtered_data['days_listed'].hist(bins=40)\n",
    "plt.xlabel('days in numbers')\n",
    "plt.ylabel('frequency')\n",
    "plt.show()"
   ]
  },
  {
   "cell_type": "markdown",
   "metadata": {},
   "source": [
    "We have 'days_listed' ads from 0 to more than 100 days listed."
   ]
  },
  {
   "cell_type": "code",
   "execution_count": 696,
   "metadata": {},
   "outputs": [],
   "source": [
    "data['too_short_period'] = data['days_listed'] < 18"
   ]
  },
  {
   "cell_type": "markdown",
   "metadata": {},
   "source": [
    "I assume the ads removed under 18 days is too short listed period."
   ]
  },
  {
   "cell_type": "code",
   "execution_count": 697,
   "metadata": {},
   "outputs": [
    {
     "name": "stdout",
     "output_type": "stream",
     "text": [
      "                   too_short_period\n",
      "model                              \n",
      "acura tl                   0.228814\n",
      "bmw x5                     0.198502\n",
      "buick enclave              0.261993\n",
      "cadillac escalade          0.208723\n",
      "chevrolet camaro           0.205314\n",
      "...                             ...\n",
      "toyota sienna              0.231003\n",
      "toyota tacoma              0.214027\n",
      "toyota tundra              0.199005\n",
      "volkswagen jetta           0.231214\n",
      "volkswagen passat          0.274286\n",
      "\n",
      "[100 rows x 1 columns]\n",
      "too_short_period    0.274286\n",
      "dtype: float64\n"
     ]
    }
   ],
   "source": [
    "too_short_period_data = data.pivot_table(index='model', values='too_short_period')\n",
    "print(too_short_period_data)\n",
    "print(too_short_period_data.max())"
   ]
  },
  {
   "cell_type": "markdown",
   "metadata": {},
   "source": [
    "In too_short_period_data are listed shares of means of ads placed less than 18 days, groped by their vehicle 'model'."
   ]
  },
  {
   "cell_type": "code",
   "execution_count": 698,
   "metadata": {},
   "outputs": [
    {
     "data": {
      "image/png": "[encoded data removed]",
      "text/plain": [
       "<Figure size 432x288 with 1 Axes>"
      ]
     },
     "metadata": {
      "needs_background": "light"
     },
     "output_type": "display_data"
    }
   ],
   "source": [
    "plt.title('Shares of ads being listed less than 18 day')\n",
    "too_short_period_data['too_short_period'].hist()\n",
    "plt.xlabel('shares')\n",
    "plt.ylabel('frequency of shares')\n",
    "plt.show()"
   ]
  },
  {
   "cell_type": "markdown",
   "metadata": {},
   "source": [
    "Histogram of too short listed ads shows that the most of them have share between 0.20 and 0.24. I am interested in vehicles with share more than the most of the vehicles have."
   ]
  },
  {
   "cell_type": "code",
   "execution_count": 699,
   "metadata": {},
   "outputs": [
    {
     "data": {
      "text/plain": [
       "count    100.000000\n",
       "mean       0.224858\n",
       "std        0.021441\n",
       "min        0.164835\n",
       "25%        0.211368\n",
       "50%        0.225682\n",
       "75%        0.238441\n",
       "max        0.274286\n",
       "Name: too_short_period, dtype: float64"
      ]
     },
     "execution_count": 699,
     "metadata": {},
     "output_type": "execute_result"
    }
   ],
   "source": [
    "too_short_period_data['too_short_period'].describe()"
   ]
  },
  {
   "cell_type": "markdown",
   "metadata": {},
   "source": [
    "descibe() method shows even more precisely that most of the means are between 0.21 and 0.23. Minimum share is 1.16 and maximum share is 0.27."
   ]
  },
  {
   "cell_type": "code",
   "execution_count": 700,
   "metadata": {},
   "outputs": [],
   "source": [
    "bad_models = too_short_period_data.query('too_short_period > 0.23')"
   ]
  },
  {
   "cell_type": "markdown",
   "metadata": {},
   "source": [
    "I decided bad_models are ads where vehicles 'models' have too_short_period share higher than 23%."
   ]
  },
  {
   "cell_type": "code",
   "execution_count": 701,
   "metadata": {},
   "outputs": [
    {
     "name": "stdout",
     "output_type": "stream",
     "text": [
      "20340\n",
      "44061\n"
     ]
    }
   ],
   "source": [
    "bad_data = filtered_data.query('model in @bad_models.index')\n",
    "print(len(bad_data))\n",
    "print(len(filtered_data))"
   ]
  },
  {
   "cell_type": "markdown",
   "metadata": {},
   "source": [
    "bad_data is filtered filtered_data with entries which models correspond our bad_models data but we still need to filter in the 'days_listed'."
   ]
  },
  {
   "cell_type": "code",
   "execution_count": 702,
   "metadata": {},
   "outputs": [
    {
     "name": "stdout",
     "output_type": "stream",
     "text": [
      "5071\n"
     ]
    }
   ],
   "source": [
    "bad_final_data = bad_data.query('days_listed < 18')\n",
    "print(len(bad_final_data))"
   ]
  },
  {
   "cell_type": "markdown",
   "metadata": {},
   "source": [
    "There are 4395 ads that I consider were removed quickly. They were removed under 18 days. \n",
    "Now I need to determine when were ads listed for abnormally long time.\n",
    "As I mentioned above, ads listed more than 80 days I will consider abnormally long listed ads."
   ]
  },
  {
   "cell_type": "code",
   "execution_count": 703,
   "metadata": {},
   "outputs": [],
   "source": [
    "data['too_long_period'] = data['days_listed'] > 80"
   ]
  },
  {
   "cell_type": "code",
   "execution_count": 704,
   "metadata": {},
   "outputs": [
    {
     "name": "stdout",
     "output_type": "stream",
     "text": [
      "                   too_long_period\n",
      "model                             \n",
      "acura tl                  0.088983\n",
      "bmw x5                    0.101124\n",
      "buick enclave             0.088561\n",
      "cadillac escalade         0.099688\n",
      "chevrolet camaro          0.091787\n",
      "...                            ...\n",
      "toyota sienna             0.094225\n",
      "toyota tacoma             0.071342\n",
      "toyota tundra             0.086235\n",
      "volkswagen jetta          0.088632\n",
      "volkswagen passat         0.085714\n",
      "\n",
      "[100 rows x 1 columns]\n"
     ]
    }
   ],
   "source": [
    "abnormally_long_period_data = data.pivot_table(index='model',values='too_long_period')\n",
    "print(abnormally_long_period_data)"
   ]
  },
  {
   "cell_type": "markdown",
   "metadata": {},
   "source": [
    "In abnormally_long_period_data are listed means of ads placed longer than 80 days, grouped for different vehicle 'model'."
   ]
  },
  {
   "cell_type": "code",
   "execution_count": 705,
   "metadata": {},
   "outputs": [
    {
     "data": {
      "text/plain": [
       "count    100.000000\n",
       "mean       0.088115\n",
       "std        0.014188\n",
       "min        0.053719\n",
       "25%        0.078686\n",
       "50%        0.088274\n",
       "75%        0.096974\n",
       "max        0.126074\n",
       "Name: too_long_period, dtype: float64"
      ]
     },
     "execution_count": 705,
     "metadata": {},
     "output_type": "execute_result"
    }
   ],
   "source": [
    "abnormally_long_period_data['too_long_period'].describe()"
   ]
  },
  {
   "cell_type": "markdown",
   "metadata": {},
   "source": [
    "descibe() method shows that most of the shares  of means are between 0.07 and 0.09. Minimum share is 0.05 and maximum share is 0.12."
   ]
  },
  {
   "cell_type": "code",
   "execution_count": 706,
   "metadata": {},
   "outputs": [
    {
     "data": {
      "image/png": "[encoded data removed]",
      "text/plain": [
       "<Figure size 432x288 with 1 Axes>"
      ]
     },
     "metadata": {
      "needs_background": "light"
     },
     "output_type": "display_data"
    }
   ],
   "source": [
    "plt.title('Share of ads listed longer than 80 days')\n",
    "abnormally_long_period_data['too_long_period'].hist()\n",
    "plt.xlabel('share')\n",
    "plt.ylabel('frequency of shares')\n",
    "plt.show()"
   ]
  },
  {
   "cell_type": "markdown",
   "metadata": {},
   "source": [
    "Ads with 'day_listed' means greater than 0.1 will consider abnormalyy long ones."
   ]
  },
  {
   "cell_type": "code",
   "execution_count": 707,
   "metadata": {
    "scrolled": true
   },
   "outputs": [
    {
     "name": "stdout",
     "output_type": "stream",
     "text": [
      "                         too_long_period\n",
      "model                                   \n",
      "bmw x5                          0.101124\n",
      "chevrolet cruze                 0.111597\n",
      "chevrolet suburban              0.110320\n",
      "chevrolet trailblazer           0.101961\n",
      "chrysler 200                    0.111111\n",
      "chrysler town & country         0.111111\n",
      "dodge charger                   0.103614\n",
      "ford f-250 super duty           0.116183\n",
      "ford f350 super duty            0.121951\n",
      "ford fusion se                  0.103560\n",
      "ford taurus                     0.108911\n",
      "gmc acadia                      0.111111\n",
      "gmc sierra 1500                 0.104857\n",
      "honda civic lx                  0.106870\n",
      "honda cr-v                      0.103650\n",
      "kia soul                        0.126074\n",
      "nissan murano                   0.102128\n",
      "subaru impreza                  0.116000\n"
     ]
    }
   ],
   "source": [
    "bad_long_models = abnormally_long_period_data.query('too_long_period > 0.1')\n",
    "print(bad_long_models)"
   ]
  },
  {
   "cell_type": "code",
   "execution_count": 708,
   "metadata": {},
   "outputs": [
    {
     "name": "stdout",
     "output_type": "stream",
     "text": [
      "5732\n",
      "44061\n"
     ]
    }
   ],
   "source": [
    "bad_long_data = filtered_data.query('model in @bad_long_models.index')\n",
    "print(len(bad_long_data))\n",
    "print(len(filtered_data))"
   ]
  },
  {
   "cell_type": "code",
   "execution_count": 709,
   "metadata": {},
   "outputs": [
    {
     "name": "stdout",
     "output_type": "stream",
     "text": [
      "407\n"
     ]
    }
   ],
   "source": [
    "bad_long_data = bad_long_data.query('days_listed > 80')\n",
    "print(len(bad_long_data))"
   ]
  },
  {
   "cell_type": "markdown",
   "metadata": {},
   "source": [
    "At the end, we have 396 abnormally long listed ads."
   ]
  },
  {
   "cell_type": "code",
   "execution_count": 710,
   "metadata": {},
   "outputs": [
    {
     "name": "stdout",
     "output_type": "stream",
     "text": [
      "             number_of_ads    mean_price\n",
      "type                                    \n",
      "SUV                  10910  10137.493126\n",
      "bus                     21  18107.428571\n",
      "convertible            325  12933.344615\n",
      "coupe                 1874  13269.894344\n",
      "hatchback              925   6630.415135\n",
      "mini-van              1031   7656.316198\n",
      "offroad                170  14262.529412\n",
      "other                  209   9626.344498\n",
      "pickup                5765  14700.261752\n",
      "sedan                10920   6725.500000\n",
      "truck                 9995  14647.795598\n",
      "van                    518   8290.434363\n",
      "wagon                 1398   8771.565093\n"
     ]
    }
   ],
   "source": [
    "type_of_vehicle = filtered_data.pivot_table(index='type',values='price',aggfunc=['count','mean'])\n",
    "type_of_vehicle.columns = ['number_of_ads','mean_price']\n",
    "print(type_of_vehicle)"
   ]
  },
  {
   "cell_type": "markdown",
   "metadata": {},
   "source": [
    "I created a pivot table type_of_vehicle from filtered_data. Indicies are 'type', columns make 'number_of_vehicles' and 'mean_price'."
   ]
  },
  {
   "cell_type": "code",
   "execution_count": 711,
   "metadata": {},
   "outputs": [],
   "source": [
    "# importing the required module \n",
    "import matplotlib.pyplot as plt "
   ]
  },
  {
   "cell_type": "code",
   "execution_count": 712,
   "metadata": {},
   "outputs": [
    {
     "data": {
      "image/png": "[encoded data removed]",
      "text/plain": [
       "<Figure size 864x288 with 1 Axes>"
      ]
     },
     "metadata": {
      "needs_background": "light"
     },
     "output_type": "display_data"
    }
   ],
   "source": [
    "type_of_vehicle.sort_values(by='number_of_ads') \\\n",
    "    .plot(y='number_of_ads',title='Dependence of the number of ads on the vehicle type',figsize=(12,4),grid=True,kind='bar')\n",
    "plt.xlabel('type of vehicles')\n",
    "plt.ylabel('number of ads')\n",
    "plt.show()"
   ]
  },
  {
   "cell_type": "markdown",
   "metadata": {},
   "source": [
    "I like the values being sorted before plotting them, so I used sort_values method. \n",
    "'number_of_ads' id dependable of 'type' so we put dependable variable on y-axis. By default, on x-axis ere indices of type_of_vehicle pivot table.\n",
    "From the chart, we can easily read which are the two types with the greatest numbers of ads; 'SUV' and 'sedan'."
   ]
  },
  {
   "cell_type": "code",
   "execution_count": 713,
   "metadata": {},
   "outputs": [
    {
     "name": "stdout",
     "output_type": "stream",
     "text": [
      "10910\n",
      "Index(['price', 'condition', 'odometer', 'transmission', 'paint_color',\n",
      "       'age_of_vehicle'],\n",
      "      dtype='object')\n"
     ]
    }
   ],
   "source": [
    "SUV_ads = (filtered_data.query('type == \"SUV\"')\\\n",
    ".drop(['model','model_year','cylinders','fuel','type','is_4wd','date_posted','days_listed',\\\n",
    "       'day_of_ad_placement','month_of_ad_placement','year_of_ad_placement','miles_per_year'],axis='columns'))\n",
    "print(len(SUV_ads))\n",
    "print(SUV_ads.columns)"
   ]
  },
  {
   "cell_type": "markdown",
   "metadata": {},
   "source": [
    "Here I made a data slice SUV_ads. It contains only ads with SUV 'type', and columns 'price', 'condition', 'odometer', 'transmission', 'paint_color' and 'age_of_vehicle'."
   ]
  },
  {
   "cell_type": "code",
   "execution_count": 714,
   "metadata": {},
   "outputs": [
    {
     "name": "stdout",
     "output_type": "stream",
     "text": [
      "10920\n"
     ]
    }
   ],
   "source": [
    "sedan_ads = (filtered_data.query('type == \"sedan\"')\\\n",
    ".drop(['model','model_year','cylinders','fuel','type','is_4wd','date_posted','days_listed',\\\n",
    "       'day_of_ad_placement','month_of_ad_placement','year_of_ad_placement','miles_per_year'],axis='columns'))\n",
    "print(len(sedan_ads))"
   ]
  },
  {
   "cell_type": "markdown",
   "metadata": {},
   "source": [
    "Here I made a data slice sedan_ads. It contains only ads with sedan 'type', and columns are the same as in SUV_ads.\n",
    "We can se there are 3 SUV_ads more than sedan_ads."
   ]
  },
  {
   "cell_type": "code",
   "execution_count": 715,
   "metadata": {
    "scrolled": true
   },
   "outputs": [
    {
     "data": {
      "image/png": "[encoded data removed]",
      "text/plain": [
       "<Figure size 1080x360 with 1 Axes>"
      ]
     },
     "metadata": {
      "needs_background": "light"
     },
     "output_type": "display_data"
    },
    {
     "name": "stdout",
     "output_type": "stream",
     "text": [
      "-0.5711150304502108\n"
     ]
    }
   ],
   "source": [
    "SUV_ads.plot(x='age_of_vehicle',y='price',kind='scatter',figsize=(15,5),grid=True,title='Price depending on age of SUV vehicle')\n",
    "plt.show()\n",
    "print(SUV_ads['price'].corr(SUV_ads['age_of_vehicle']))"
   ]
  },
  {
   "cell_type": "markdown",
   "metadata": {},
   "source": [
    "I created scatterplot 'Price depending on age of vehicle' where each point represents two values (based on its position on 'age_of_vehicle' axis and on 'price' axis.) Data points close together tells us abouth 'typical' relationship, and the one that are far from the average. For example, we could say that usually price of the vehicle old 12 years is under 25000 but there are some exceptions with the price more than 25000.\n",
    "As well, Pearson correlation coefficient between age and price is -0.5. Which means for most of the data we have tendencies. When one value increases, the other decreases. In our case, the higher the age of the vehicles, the lower the price. The dependeny is stonger when earson correlation coefficient is closer to -1."
   ]
  },
  {
   "cell_type": "code",
   "execution_count": 716,
   "metadata": {},
   "outputs": [
    {
     "data": {
      "image/png": "[encoded data removed]",
      "text/plain": [
       "<Figure size 1080x360 with 1 Axes>"
      ]
     },
     "metadata": {
      "needs_background": "light"
     },
     "output_type": "display_data"
    },
    {
     "name": "stdout",
     "output_type": "stream",
     "text": [
      "-0.5278124869979981\n"
     ]
    }
   ],
   "source": [
    "SUV_ads.plot(x='odometer',y='price',kind='scatter',figsize=(15,5),grid=True,title='Price depending on mileage of SUV vehicle')\n",
    "plt.show()\n",
    "print(SUV_ads['price'].corr(SUV_ads['odometer']))"
   ]
  },
  {
   "cell_type": "markdown",
   "metadata": {},
   "source": [
    "In this chart we can see there is dependency between the mileage and the price of a car with Pearson correlation coefficient -0.49. This would say the more miles, the lower price and the fewer miles, bigger price."
   ]
  },
  {
   "cell_type": "code",
   "execution_count": 717,
   "metadata": {},
   "outputs": [
    {
     "data": {
      "image/png": "[encoded data removed]",
      "text/plain": [
       "<Figure size 1080x360 with 1 Axes>"
      ]
     },
     "metadata": {
      "needs_background": "light"
     },
     "output_type": "display_data"
    },
    {
     "name": "stdout",
     "output_type": "stream",
     "text": [
      "0.26387980895984287\n"
     ]
    }
   ],
   "source": [
    "SUV_ads.plot(x='condition',y='price',kind='scatter',figsize=(15,5),grid=True,title='Price depending on condition of SUV vehicle')\n",
    "plt.show()\n",
    "print(SUV_ads['price'].corr(SUV_ads['condition']))"
   ]
  },
  {
   "cell_type": "markdown",
   "metadata": {},
   "source": [
    "In this chart we can see low dependency between the condition and the price of a car with Pearson correlation coefficient 0.25. Dependecy is positive, which means the better condition, the higher price. But still we can read from the chart that the data points for 2, 3 and condition 4 are in all the price range, so we could understand the dependeny is not that strong."
   ]
  },
  {
   "cell_type": "code",
   "execution_count": 718,
   "metadata": {},
   "outputs": [
    {
     "data": {
      "image/png": "[encoded data removed]",
      "text/plain": [
       "<Figure size 1080x360 with 1 Axes>"
      ]
     },
     "metadata": {
      "needs_background": "light"
     },
     "output_type": "display_data"
    },
    {
     "name": "stdout",
     "output_type": "stream",
     "text": [
      "-0.6025258622933045\n"
     ]
    }
   ],
   "source": [
    "sedan_ads.plot(x='age_of_vehicle',y='price',kind='scatter',figsize=(15,5),grid=True,title='Price depending on condition of sedan vehicle')\n",
    "plt.show()\n",
    "print(sedan_ads['price'].corr(sedan_ads['age_of_vehicle']))"
   ]
  },
  {
   "cell_type": "markdown",
   "metadata": {},
   "source": [
    "We have ditribution of data points for sedan very similar as for SUV. Pearson correlation coefficinet is very similar for SUV as well. -0.59 for sedan and -0.56 for SUV."
   ]
  },
  {
   "cell_type": "code",
   "execution_count": 719,
   "metadata": {},
   "outputs": [
    {
     "data": {
      "image/png": "[encoded data removed]",
      "text/plain": [
       "<Figure size 1080x360 with 1 Axes>"
      ]
     },
     "metadata": {
      "needs_background": "light"
     },
     "output_type": "display_data"
    },
    {
     "name": "stdout",
     "output_type": "stream",
     "text": [
      "-0.5700277263945215\n"
     ]
    }
   ],
   "source": [
    "sedan_ads.plot(x='odometer',y='price',kind='scatter',figsize=(15,5),grid=True,title='Price depending on mileage of sedan vehicle')\n",
    "plt.show()\n",
    "print(sedan_ads['price'].corr(sedan_ads['odometer']))"
   ]
  },
  {
   "cell_type": "markdown",
   "metadata": {},
   "source": [
    "We have ditribution of data points for sedan very similar as for SUV. Pearson correlation coefficinet is very similar for SUV as well. -0.52 for sedan and -0.49 for SUV."
   ]
  },
  {
   "cell_type": "code",
   "execution_count": 721,
   "metadata": {},
   "outputs": [
    {
     "data": {
      "image/png": "[encoded data removed]",
      "text/plain": [
       "<Figure size 1080x360 with 1 Axes>"
      ]
     },
     "metadata": {
      "needs_background": "light"
     },
     "output_type": "display_data"
    },
    {
     "name": "stdout",
     "output_type": "stream",
     "text": [
      "0.29810798746937006\n"
     ]
    }
   ],
   "source": [
    "sedan_ads.plot(x='condition',y='price',kind='scatter',figsize=(15,5),grid=True,title='Price depending on condition of sedan vehicle')\n",
    "plt.show()\n",
    "print(sedan_ads['price'].corr(sedan_ads['condition']))"
   ]
  },
  {
   "cell_type": "markdown",
   "metadata": {},
   "source": [
    "We have ditribution of data points for sedan very similar as for SUV. Pearson correlation coefficinet is very similar for SUV as well. 0.29 for sedan and 0.25 for SUV."
   ]
  },
  {
   "cell_type": "code",
   "execution_count": 722,
   "metadata": {},
   "outputs": [
    {
     "name": "stderr",
     "output_type": "stream",
     "text": [
      "/opt/conda/lib/python3.7/site-packages/numpy/core/_asarray.py:83: VisibleDeprecationWarning: Creating an ndarray from ragged nested sequences (which is a list-or-tuple of lists-or-tuples-or ndarrays with different lengths or shapes) is deprecated. If you meant to do this, you must specify 'dtype=object' when creating the ndarray\n",
      "  return array(a, dtype, copy=False, order=order)\n"
     ]
    },
    {
     "data": {
      "image/png": "[encoded data removed]",
      "text/plain": [
       "<Figure size 432x288 with 1 Axes>"
      ]
     },
     "metadata": {
      "needs_background": "light"
     },
     "output_type": "display_data"
    }
   ],
   "source": [
    "import numpy as np\n",
    "import seaborn as sns\n",
    "SUV_ads.boxplot(column=['price'], by='transmission',return_type ='axes')\n",
    "plt.show()"
   ]
  },
  {
   "cell_type": "markdown",
   "metadata": {},
   "source": [
    "Typical prices for SUV 'type' fall within the whiskers, while outliers are displayed as points outside of them. From the chart we can read that median price for manual transmission vehicles is higher than for automatic, higher than 10 000, and has minimum outliers. For automatic vehicles median price is under 10 000 but there are many outliers. For 'other' transmission vehicles median prices are the lowest and without outliers."
   ]
  },
  {
   "cell_type": "code",
   "execution_count": 613,
   "metadata": {
    "scrolled": true
   },
   "outputs": [
    {
     "name": "stdout",
     "output_type": "stream",
     "text": [
      "Unknown    1948\n",
      "black      1914\n",
      "white      1681\n",
      "silver     1404\n",
      "grey       1058\n",
      "blue        928\n",
      "red         822\n",
      "green       399\n",
      "brown       329\n",
      "custom      279\n",
      "orange       71\n",
      "yellow       39\n",
      "purple       38\n",
      "Name: paint_color, dtype: int64\n"
     ]
    }
   ],
   "source": [
    "print(SUV_ads['paint_color'].value_counts())"
   ]
  },
  {
   "cell_type": "markdown",
   "metadata": {},
   "source": [
    "We can see here the most common colors for SUVs ads."
   ]
  },
  {
   "cell_type": "code",
   "execution_count": 614,
   "metadata": {},
   "outputs": [
    {
     "name": "stderr",
     "output_type": "stream",
     "text": [
      "/opt/conda/lib/python3.7/site-packages/numpy/core/_asarray.py:83: VisibleDeprecationWarning: Creating an ndarray from ragged nested sequences (which is a list-or-tuple of lists-or-tuples-or ndarrays with different lengths or shapes) is deprecated. If you meant to do this, you must specify 'dtype=object' when creating the ndarray\n",
      "  return array(a, dtype, copy=False, order=order)\n"
     ]
    },
    {
     "data": {
      "image/png": "[encoded data removed]",
      "text/plain": [
       "<Figure size 864x288 with 1 Axes>"
      ]
     },
     "metadata": {
      "needs_background": "light"
     },
     "output_type": "display_data"
    }
   ],
   "source": [
    "SUV_ads.boxplot(column=['price'], by='paint_color',return_type ='axes',figsize=(12,4))\n",
    "plt.show()"
   ]
  },
  {
   "cell_type": "markdown",
   "metadata": {},
   "source": [
    "Most of the mean prices are in between 5 000 and 10 000.\n",
    "We can read that the least common SUV's colors (orange, yellow, purpule) have the least or no price outliers. The most common colors (black, white, silver) have a lot outliers and the highest maximum price is with black SUVs.\n",
    "So I would say, the price of SUV has no significant dependency on color of SUVs."
   ]
  },
  {
   "cell_type": "code",
   "execution_count": 615,
   "metadata": {},
   "outputs": [
    {
     "name": "stderr",
     "output_type": "stream",
     "text": [
      "/opt/conda/lib/python3.7/site-packages/numpy/core/_asarray.py:83: VisibleDeprecationWarning: Creating an ndarray from ragged nested sequences (which is a list-or-tuple of lists-or-tuples-or ndarrays with different lengths or shapes) is deprecated. If you meant to do this, you must specify 'dtype=object' when creating the ndarray\n",
      "  return array(a, dtype, copy=False, order=order)\n"
     ]
    },
    {
     "data": {
      "image/png": "[encoded data removed]",
      "text/plain": [
       "<Figure size 432x288 with 1 Axes>"
      ]
     },
     "metadata": {
      "needs_background": "light"
     },
     "output_type": "display_data"
    }
   ],
   "source": [
    "sedan_ads.boxplot(column=['price'], by='transmission',return_type ='axes')\n",
    "plt.show()"
   ]
  },
  {
   "cell_type": "markdown",
   "metadata": {},
   "source": [
    "From the chart we can read that median price for manual transmission sedan vehicles is under 5000, lower than for automatic, which is higher than 5000. By SUV was the other way around. Still, we see the same distribution as with SUV.\n",
    "I would conclude that median price for automatic sedan vehicle is a bit more than for an manual. There are more outliers for automatic sedans than for manual. I would say the price is higher if the vehicle is automatic."
   ]
  },
  {
   "cell_type": "code",
   "execution_count": 616,
   "metadata": {},
   "outputs": [
    {
     "name": "stdout",
     "output_type": "stream",
     "text": [
      "Unknown    1984\n",
      "silver     1832\n",
      "black      1581\n",
      "grey       1454\n",
      "white      1342\n",
      "blue       1118\n",
      "red         852\n",
      "custom      269\n",
      "brown       244\n",
      "green       192\n",
      "purple       22\n",
      "yellow       21\n",
      "orange        9\n",
      "Name: paint_color, dtype: int64\n"
     ]
    }
   ],
   "source": [
    "print(sedan_ads['paint_color'].value_counts())"
   ]
  },
  {
   "cell_type": "markdown",
   "metadata": {},
   "source": [
    "By sedan vehicles, we have the most common colors; silver, black, grey. The least common colors are the same as for SUVs."
   ]
  },
  {
   "cell_type": "code",
   "execution_count": 617,
   "metadata": {},
   "outputs": [
    {
     "name": "stderr",
     "output_type": "stream",
     "text": [
      "/opt/conda/lib/python3.7/site-packages/numpy/core/_asarray.py:83: VisibleDeprecationWarning: Creating an ndarray from ragged nested sequences (which is a list-or-tuple of lists-or-tuples-or ndarrays with different lengths or shapes) is deprecated. If you meant to do this, you must specify 'dtype=object' when creating the ndarray\n",
      "  return array(a, dtype, copy=False, order=order)\n"
     ]
    },
    {
     "data": {
      "image/png": "[encoded data removed]",
      "text/plain": [
       "<Figure size 864x288 with 1 Axes>"
      ]
     },
     "metadata": {
      "needs_background": "light"
     },
     "output_type": "display_data"
    }
   ],
   "source": [
    "sedan_ads.boxplot(column=['price'], by='paint_color',return_type ='axes',figsize=(12,4))\n",
    "plt.show()"
   ]
  },
  {
   "cell_type": "markdown",
   "metadata": {},
   "source": [
    "The most of the mean values are between 5000 and 10000. There is very similar distribution of data dots to the SUV's. I see no significant dependence on price with 'paint_color'."
   ]
  },
  {
   "cell_type": "markdown",
   "metadata": {},
   "source": [
    "### Conclusion"
   ]
  },
  {
   "cell_type": "markdown",
   "metadata": {},
   "source": [
    "I studied how outliers affect the form and readability of the histograms, determined the upper limits of outliers, removed the outliers and stored them in a separate DataFrame.\n",
    "\n",
    "I used the filtered data to plot new histograms and compared them with the earlier histograms (the ones that included outliers).\n",
    "\n",
    "I determine when ads were removed quickly, and when they were listed for an abnormally long time, analized the number of ads and the average price for each type of vehicle, plotted a graph showing the dependence of the number of ads on the vehicle type.\n",
    "\n",
    "I used plot box-and-whisker charts and scatterplots to make my final analysis and to find an overall conclusion."
   ]
  },
  {
   "cell_type": "markdown",
   "metadata": {},
   "source": [
    "OVERALL CONCLUSION:\n",
    "\n",
    "There are tendencies (with  Pearson correlation coefficinet for SUVs -0.56 and for sedans -0.59) that the higher the age, the lower the price of the vehicle. \n",
    "\n",
    "The more miles the vehicle has, the price is lower (Pearson correlation coefficinet for SUVs is -0.49 and for sedans is -0.52).\n",
    "\n",
    "Price also depends of the vehicles transmission. Dependency changes for a different type. For example, SUVs median price is higher for manual than for automatic, still there are more outliers within automatic vehicles. For sedan type of vehicles the mean value is higher for automatic transmission and there are more outliers for automatic than for manual."
   ]
  }
 ],
 "metadata": {
  "kernelspec": {
   "display_name": "Python 3",
   "language": "python",
   "name": "python3"
  },
  "language_info": {
   "codemirror_mode": {
    "name": "ipython",
    "version": 3
   },
   "file_extension": ".py",
   "mimetype": "text/x-python",
   "name": "python",
   "nbconvert_exporter": "python",
   "pygments_lexer": "ipython3",
   "version": "3.8.5"
  },
  "toc": {
   "base_numbering": 1,
   "nav_menu": {},
   "number_sections": true,
   "sideBar": true,
   "skip_h1_title": false,
   "title_cell": "Table of Contents",
   "title_sidebar": "Contents",
   "toc_cell": false,
   "toc_position": {},
   "toc_section_display": true,
   "toc_window_display": false
  }
 },
 "nbformat": 4,
 "nbformat_minor": 2
}
